{
 "cells": [
  {
   "cell_type": "markdown",
   "metadata": {},
   "source": [
    "# ORDER BY Y HAVING"
   ]
  },
  {
   "cell_type": "markdown",
   "metadata": {},
   "source": [
    "La sentencia ORDER BY tiene que ver con el ordenamiento de los datos dependiendo de los criterios que quieras usar.\n",
    "\n",
    "- ASC sirve para ordenar de forma ascendente.\n",
    "- DESC sirve para ordenar de forma descendente.\n",
    "- LIMIT se usa para limitar la cantidad de resultados que arroja el query.\n",
    "\t\n",
    "HAVING tiene una similitud muy grande con WHERE, sin embargo el uso de ellos depende del orden. Cuando se quiere seleccionar tuplas agrupadas únicamente se puede hacer con HAVING.\n",
    "\n",
    "![](imagenes/img167.png)\n",
    "\n",
    "Con el ORDER BY se ordena la lista según el criterio que se quiera, por ejemplo en este caso se ordena por fecha_publicacion de manera ascendente por medio de ASC, también se puede escribir de manera descendente con DESC.\n",
    "\n",
    "![](imagenes/img168.png)\n",
    "\n",
    "LIMIT permite seleccionar los primeros registros, el cuál es muy útil para bases de datos enormes, de miles de filas, con esto se puede seleccionar los primero 5 o los primero 10, etc.\n",
    "\n",
    "![](imagenes/img169.png)\n",
    "\n",
    "Si se quiere ver los datos en los cuales por estatus y mes se tiene mas de un elemento, se puede pensar en utilizar un WHERE, sin embargo genera un error, porque aunque ya se tiene la sentencia de contar las filas por medio de post_quantity, este conteo no se genera hasta que se llegue al GROUP BY, para solucionar este error se usa HAVING \n",
    "\n",
    "![](imagenes/img170.png)\n",
    "\n",
    "Con el HAVING después del GROUP BY, se obtiene lo deseado como si fuera un WHERE\n"
   ]
  }
 ],
 "metadata": {
  "language_info": {
   "name": "python"
  },
  "orig_nbformat": 4
 },
 "nbformat": 4,
 "nbformat_minor": 2
}
