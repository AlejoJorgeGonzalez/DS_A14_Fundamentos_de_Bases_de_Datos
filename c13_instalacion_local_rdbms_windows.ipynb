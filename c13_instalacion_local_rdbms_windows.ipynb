{
 "cells": [
  {
   "cell_type": "markdown",
   "source": [
    "# INSTALACIÓN LOCAL DE UN RDBMS (WINDOWS)"
   ],
   "metadata": {}
  },
  {
   "cell_type": "markdown",
   "source": [
    "Hay dos maneras de acceder a manejadores de bases de datos:\n",
    "\n",
    "- Instalar en máquina local un administrador de bases relacional.\n",
    "- Tener ambientes de desarrollo especiales o servicios cloud.\n",
    "\n",
    "Tener un RDBMS en local es práctico para comenzar aprendiendo sobre bases de datos, sin embargo de manera profesional se utilizan mas los ambientes en nube.\n",
    "\n",
    "En este curso usaremos MySQL porque tiene un impacto histórico siendo muy utilizado y además es software libre y gratuito. La versión 5.6.43 es compatible con la mayoría de aplicaciones y frameworks. Sin embargo para esta clase se instala el mas reciente que es el 8.0.26\n",
    "\n",
    "![](imagenes/img36.png)\n",
    "\n",
    "Se puede observar que hay dos tipos de instaladores, el instalador web que baja un instalador pequeño que despues se conecta con la web cada vez que se necesita instalarlo y la descarga completa que tiene todo lo necesario para la instalación sin tener necesariamente una conexión a la web. Para este caso se descarga el mas pesado.\n",
    "\n",
    "![](imagenes/img37.png)\n",
    "\n",
    "Aparece las opciones para ser parte la comunidad de Oracle, sin embargo, se le da en la parte de abajo que dice \"No thanks, just start my download\"\n",
    "\n",
    "Despues de descargado se abre el instalador, \n",
    "\n",
    "![](imagenes/img38.png)\n",
    "\n",
    "en el momento de darle permisos, compruebe que el editor es Oracle America, INC.\n",
    "\n",
    "![](imagenes/img39.png)\n",
    "\t\n",
    "Se selecciona la opcion Custom para elegir que instalar ya que muchos de los componentes no se van a necesitar para el curso.\n",
    "\n",
    "![](imagenes/img40.png)\n",
    "\n",
    "Solo se instala para este caso el MySQL server y el MySQL Workbench, por tanto se selecciona estos dos y se oprime next.\n",
    "\n",
    "![](imagenes/img41.png)\n",
    "\n",
    "Se da click en execute y despues de instalados se da click en next.\n",
    "\n",
    "![](imagenes/img42.png)\n",
    "\n",
    "Click nuevamente en next.\n",
    "\n",
    "![](imagenes/img43.png)\n",
    "\n",
    "Se configura como se muestra y da click en next\n",
    "\n",
    "![](imagenes/img44.png)\n",
    "\n",
    "![](imagenes/img45.png)\n",
    "\n",
    "Se agrega la contraseña y click en next\n",
    "\n",
    "![](imagenes/img46.png)\n",
    "\n",
    "![](imagenes/img47.png)\n",
    "\n",
    "![](imagenes/img48.png)\n",
    "\n",
    "![](imagenes/img49.png)\n",
    "\n",
    "![](imagenes/img50.png)\n",
    "\n",
    "- Root es el usuario principal que tendrá todos los permisos y por lo tanto en ambientes de producción hay que tener mucho cuidado al configurarlo.\n",
    "\n",
    "## ENLACES EXTERNOS\n",
    "\n",
    "[Install MySQL](https://dev.mysql.com/downloads/windows/installer/5.6.html)\n"
   ],
   "metadata": {}
  }
 ],
 "metadata": {
  "orig_nbformat": 4,
  "language_info": {
   "name": "python"
  }
 },
 "nbformat": 4,
 "nbformat_minor": 2
}