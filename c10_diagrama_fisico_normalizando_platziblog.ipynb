{
 "cells": [
  {
   "cell_type": "markdown",
   "source": [
    "# DIAGRAMA FÍSICO: NORMALIZANDO PLATZIBLOG"
   ],
   "metadata": {}
  },
  {
   "cell_type": "markdown",
   "source": [
    "\n",
    "![img27](imagenes/img27.png)\n",
    "\n",
    "El diagrama ER de platziblog es el que se muestra, ahora el diagrama físico de platziblog es el siguiente.\n",
    "\n",
    "![img28](imagenes/img28.png)\n",
    "\n",
    "Note que el diagrama ya tiene los diferentes campos con el tipo de dato que va a contener más los keys y los constraints. Para el caso de Usuarios el primary key es el id, el resto son varchar que no puede ser nulos NotNull, además el email debe ser Unique. \n",
    "\n",
    "La entidad posts tiene tambien un primary key que es el id, se tiene varchar como el titulo, un timestamp que es la fecha de publicación, el text que es un modo de char largo para el contenido del post y por último un check en char para seleccionar entre activo o inactivo.\n",
    "\n",
    "En comentarios el primary key es el id y el comentario que es un text.\n",
    "\n",
    "En categorías y etiquetas se tiene los primary key que es el id mas el nombre de la categoría o etiquetas que es un varchar de máximo 30 caracteres.\n",
    "\n",
    "La relaciones estan dadas por 1:N para usuarios-post, 1:N para usuarios-comentarios. Es de anotar que la clave primaria usuarios, pasa a ser la clave foránea del post o de los comentarios, de esta forma se puede saber quien es el autor del post o del comentario. Como regla general cuando se tiene una relación 1:1 no es necesarios colocar una llave foránea, pero en casos de una relación 1:N, se debe agregar la llave foránea a la tabla de muchos que identifique a la tabla 1, por ejemplo para el caso de usuarios-post, se debe agregar la llave foránea al post, el cuál identifica cuál es el usuario. \n",
    "\n",
    "En la relación post-comentarios se tiene una relación 1:N, por tanto se debe agregar una llave foránea para los comentarios que identifique al cual post hace referencia. De la misma forma se realiza con la relación categorias-post.\n",
    "\n",
    "La relación post-etiquetas es especial, ya que es una relación N:N o muchos a muchos, como se observa a continuación:\n",
    "\n",
    "![img29](imagenes/img29.png)\n",
    "\n",
    "La forma de solucionar esto, es creando una tabla intermedia, o tabla pivote, lo que hace que la tabla tenga los dos primary keys y se relacionen de manera única, por tanto esta tabla tiene las dos filas como primary keys y foreign keys.\n"
   ],
   "metadata": {}
  }
 ],
 "metadata": {
  "orig_nbformat": 4,
  "language_info": {
   "name": "python"
  }
 },
 "nbformat": 4,
 "nbformat_minor": 2
}