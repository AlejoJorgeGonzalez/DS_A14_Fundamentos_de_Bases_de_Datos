{
 "cells": [
  {
   "cell_type": "markdown",
   "metadata": {},
   "source": [
    "# ELEGIR UNA BASE DE DATOS"
   ]
  },
  {
   "cell_type": "markdown",
   "metadata": {},
   "source": [
    "Has aprendido todo lo necesario para comenzar a trabajar con bases de datos relacionales y no-relacionales. Ahora es probable que al momento de iniciar con un proyecto te enfrentes a la pregunta ¿qué tipo de base de datos debo elegir?.\n",
    "El teorema CAP te ayuda a tomar en cuenta 3 factores clave:\n",
    "\n",
    "- Consistencia.\n",
    "- Disponibilidad.\n",
    "- Tolerancia a la partición.\n",
    "\n",
    "En este blogpost podrás conocer más detalles para tomar la mejor decisión.\n"
   ]
  }
 ],
 "metadata": {
  "language_info": {
   "name": "python"
  },
  "orig_nbformat": 4
 },
 "nbformat": 4,
 "nbformat_minor": 2
}
