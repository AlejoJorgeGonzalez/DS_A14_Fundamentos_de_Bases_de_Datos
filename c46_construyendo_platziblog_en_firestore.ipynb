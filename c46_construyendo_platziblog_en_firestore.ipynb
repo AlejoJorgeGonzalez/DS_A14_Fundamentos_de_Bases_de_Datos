{
 "cells": [
  {
   "cell_type": "markdown",
   "metadata": {},
   "source": [
    "# CONSTRUYENDO PLATZIBLOG EN FIRESTORE"
   ]
  },
  {
   "cell_type": "markdown",
   "metadata": {},
   "source": [
    "\n",
    "![](imagenes/img195.png)\n",
    "\n",
    "![](imagenes/img196.png)\n",
    "\n",
    "![](imagenes/img197.png)\n",
    "\n",
    "Se crea tres top level collections, que son categorias, posts y usuarios, los cuales se agregan varios documentos en cada colección.\n",
    "\n",
    "![](imagenes/img198.png)\n",
    "\n",
    "Para anidar dos top level collections, lo primero es copiar la ruta del documento a anidar, \n",
    "\n",
    "![](imagenes/img199.png)\n",
    "\n",
    "Luego en el posts se selecciona el documento al cuál se va a asociar y dentro de este damos clic en agregar campo\n",
    "\n",
    "![](imagenes/img200.png)\n",
    "\n",
    "Se da el nombre del nuevo campo, en el tipo se selecciona reference y en la ruta de accesso, la ruta que se copio del documento de usuario, con esto ya esta relacionado dos documentos de top level collection. De igual forma se anida los documentos de categorias a posts.\n",
    "\n",
    "![](imagenes/img201.png)\n",
    "\n",
    "Dentro de los documentos de posts se crea una nueva colección que se llama etiquetas dandole clic en iniciar colección de la parte derecha\n",
    "\n",
    "![](imagenes/img202.png)\n",
    "\n",
    "Dentro de la subcolección etiquetas se crea dos nuevos documentos con el nombre de la etiqueta."
   ]
  }
 ],
 "metadata": {
  "language_info": {
   "name": "python"
  },
  "orig_nbformat": 4
 },
 "nbformat": 4,
 "nbformat_minor": 2
}
