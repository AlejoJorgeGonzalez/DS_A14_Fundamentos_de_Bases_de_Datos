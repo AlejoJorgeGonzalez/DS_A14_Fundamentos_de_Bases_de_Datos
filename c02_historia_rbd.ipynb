{
 "cells": [
  {
   "cell_type": "markdown",
   "source": [
    "# Historia de las RBD"
   ],
   "metadata": {}
  },
  {
   "cell_type": "markdown",
   "source": [
    "## Historia\n",
    "\n",
    "Las bases de datos nace de la necesidad de guardar la información mas allá de la memoria RAM. En la arquitectura de Von Neuman se contempla como memoria principal, la memoria RAM y el procesamiento de datos por medio de la CPU, pero no se menciona la el guardado de datos de manera persistente, el cuál surgió después.\n",
    "\n",
    "El primer sistema para guardar datos fue un sistema de base de datos basados en archivos , que no es lo mismo que un sistema de base de datos basado en documentos, en la cual se guardaba los datos en archivos planos, separados por comas o espacios o puntos, los cuales eran muy fáciles de guardar pero muy difícil para traerlos de nuevo. A partir de esto se necesitaba un sistema mas estructurado y de esto nace las bases de datos relacionales, su inventor, Edgar Codd creó 12 reglas con la filosofía de las bases de datos relacionales con el fin de estandarizar.\n",
    "\n",
    "Codd creo el álgebra relacional, que son propiedades para combinar diferentes bases de datos."
   ],
   "metadata": {}
  },
  {
   "cell_type": "markdown",
   "source": [
    "## RESUMIENDO\n",
    "\n",
    "Las bases de datos surgen de la necesidad de conservar la información más allá de lo que existe en la memoria RAM.\n",
    "\n",
    "Las bases de datos basadas en archivos eran datos guardados en texto plano, fáciles de guardar pero muy difíciles de consultar y por la necesidad de mejorar esto nacen las bases de datos relacionales. Su inventor Edgar Codd dejó ciertas reglas para asegurarse de que toda la filosofía de las bases de datos no se perdiera, estandarizando el proceso."
   ],
   "metadata": {}
  },
  {
   "cell_type": "markdown",
   "source": [
    "## ENLACES EXTERNOS\n",
    "\n",
    "[Codd 12 rules](https://www.w3resource.com/sql/sql-basic/codd-12-rule-relation.php)\n"
   ],
   "metadata": {}
  }
 ],
 "metadata": {
  "orig_nbformat": 4,
  "language_info": {
   "name": "python"
  }
 },
 "nbformat": 4,
 "nbformat_minor": 2
}