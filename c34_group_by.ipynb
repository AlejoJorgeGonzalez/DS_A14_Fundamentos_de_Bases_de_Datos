{
 "cells": [
  {
   "cell_type": "markdown",
   "metadata": {},
   "source": [
    "# GROUP BY"
   ]
  },
  {
   "cell_type": "markdown",
   "metadata": {},
   "source": [
    "GROUP BY tiene que ver con agrupación. Indica a la base de datos qué criterios debe tener en cuenta para agrupar.\n",
    "\n",
    "![](imagenes/img162.png)\n",
    "\n",
    "Se observa que se conto la cantidad de filas en el campo status con COUNT, el cual se guarda en el campo 'post_quantity', después se agrupo por status por medio de GROUP BY, el cuál para este caso son 17 filas en activo y 5 filas inactivos\n",
    "\n",
    "![](imagenes/img163.png)\n",
    "\n",
    "Con SUM se suma los valores, que para este caso se suma los id\n",
    "\n",
    "![](imagenes/img164.png)\n",
    "\n",
    "Se puede crear un nuevo campo que permita sumar las filas y después agruparlas por este nuevo campo que se creo como por ejemplo por año de publicación del post\n",
    "\n",
    "![](imagenes/img165.png)\n",
    "\n",
    "De la misma forma se puede saber el número de posts por mes utilizando MONTHNAME\n",
    "\n",
    "![](imagenes/img166.png)\n",
    "\n",
    "También se puede realizar agrupaciones por dos o mas campos, como puede ser para este caso por status y por nombre del mes."
   ]
  }
 ],
 "metadata": {
  "language_info": {
   "name": "python"
  },
  "orig_nbformat": 4
 },
 "nbformat": 4,
 "nbformat_minor": 2
}
