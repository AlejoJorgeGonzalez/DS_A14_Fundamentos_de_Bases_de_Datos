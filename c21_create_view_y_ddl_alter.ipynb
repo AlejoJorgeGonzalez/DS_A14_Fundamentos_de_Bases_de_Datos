{
 "cells": [
  {
   "cell_type": "markdown",
   "metadata": {},
   "source": [
    "# CREATE VIEW Y DDL ALTER"
   ]
  },
  {
   "cell_type": "markdown",
   "metadata": {},
   "source": [
    "En esta clase se muestra como crear las view o las vistas, que es la forma como se toman datos de la base de datos, ponerlos de una forma presentable y convertirlas en algo que se pueda consultar de manera recurrente.\n",
    "\n",
    "![](imagenes/img79.png)\n",
    "\n",
    "El comando view tiene dos componentes principales, el primero es el nombre del view, que viene acompañado por el CREATE porque se esta creado la vista, es de anotar que por buenas practicas el nombre comienza por una 'v' para indicar que es una vista, después de esto se coloca la palabra 'AS' seguido de la segunda parte que es la estructura SELECT.\n",
    "\n",
    "![](imagenes/img80.png)\n",
    "\n",
    "Para crear un view en MySQL damos click derecho en views y se selecciona 'Create View'\n",
    "\n",
    "![](imagenes/img81.png)\n",
    "\n",
    "Se crea la setencia y se da apply \n",
    "\n",
    "![](imagenes/img82.png)\n",
    "\n",
    "Antes de crearlo muestra la setencia que se va a ejecutar, se le da en apply\n",
    "\n",
    "![](imagenes/img83.png)\n",
    "\n",
    "Se crea una vista, esto es muy útil cuando se quiere combinar varias tablas para ver alguna información de cada tabla, para luego mostrarlas.\n",
    "\n",
    "Se sigue con la setencia\n",
    "\n",
    "![](imagenes/img84.png)\n",
    "\n",
    "'ALTER' es el comando para realizar cambios en la base de datos, la setencia en su primera parte esta diciendo que se va a alterar o cambiar la tabla people y ese cambio es agregar date_of_birth date. En la segunda parte es cambiar de la tabla people cambiar la columna date_of_birth year y por último se borra la columna date_of_birth.\n",
    "\n",
    "![](imagenes/img85.png)\n",
    "\n",
    "Para utilizar alter en MySQL con click derecjo se selecciona alter table\n",
    "\n",
    "![](imagenes/img86.png)\n",
    "\n",
    "Se agrega  la columna date_of_birth y se da en apply\n",
    "\n",
    "![](imagenes/img87.png)\n",
    "\n",
    "Nuevamente muestra la instancia que se va a ejecutar, se le da en Apply\n",
    "\n",
    "![](imagenes/img88.png)\n",
    "\n",
    "Para borrar una columna se le da click derecho en la columna a borrar y se selecciona Delete Selected, luego en Apply\n",
    "\n",
    "![](imagenes/img89.png)\n",
    "\n",
    "Se muestra en la instancia el DROP para borrar la columna\n"
   ]
  }
 ],
 "metadata": {
  "language_info": {
   "name": "python"
  },
  "orig_nbformat": 4
 },
 "nbformat": 4,
 "nbformat_minor": 2
}
