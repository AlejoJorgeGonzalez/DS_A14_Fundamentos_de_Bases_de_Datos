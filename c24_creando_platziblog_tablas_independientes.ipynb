{
 "cells": [
  {
   "cell_type": "markdown",
   "metadata": {},
   "source": [
    "# CREANDO PLATZIBLOG: TABLAS INDEPENDIENTES"
   ]
  },
  {
   "cell_type": "markdown",
   "metadata": {},
   "source": [
    "- Una buena práctica es comenzar creando las entidades que no tienen una llave foránea.\n",
    "\n",
    "- ü Generalmente en los nombres de bases de datos se evita usar eñes o acentos para evitar problemas en los manejadores de las bases de datos.\n",
    "\n",
    "La representación gráfica de platziblog es el siguiente, es de anotar que la línea en rojo es de una relación muchos a muchos (N:N), por lo que se debe crear una tabla intermedio,\n",
    "\n",
    "![](imagenes/img111.png)\n",
    "\n",
    "Como buena práctica se debe comenzar por las tablas que no tienen llave foránea, las cuales se pueden observar en aquellas que en su parte tiene una relación de 1.\n",
    "\n",
    "TABLA CATEGORÍAS\n",
    "\n",
    "![](imagenes/img112.png)\n",
    "\n",
    "![](imagenes/img113.png)\n",
    "\n",
    "TABLAS ETIQUETAS\n",
    "\n",
    "![](imagenes/img114.png)\n",
    "\n",
    "TABLAS USUARIOS\n",
    "\n",
    "![](imagenes/img115.png)\n",
    "\n",
    "![](imagenes/img116.png)\n"
   ]
  }
 ],
 "metadata": {
  "language_info": {
   "name": "python"
  },
  "orig_nbformat": 4
 },
 "nbformat": 4,
 "nbformat_minor": 2
}
