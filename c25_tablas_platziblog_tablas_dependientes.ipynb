{
 "cells": [
  {
   "cell_type": "markdown",
   "metadata": {},
   "source": [
    "# TABLAS PLATZIBLOG: TABLAS DEPENDIENTES"
   ]
  },
  {
   "cell_type": "markdown",
   "metadata": {},
   "source": [
    "El comando “cascade” sirve para que cada que se haga un update en la tabla principal, se refleje también en la tabla en la que estamos creando la relación.\n",
    "\n",
    "![](imagenes/img111.png)\n",
    "\n",
    "Ahora se crean las tablas que depende de otras a través de llaves foráneas, observe que hay dos tablas que depende de otras dos, estas son post que depende de usuarios y categorías y la tabla comentarios que depende de posts y usuarios. Note que primero se tiene que comenzar con la table post ya que esta depende de dos tablas ya creadas como son usuarios y categorías, después con comentarios ya que depende de que posts ya este creado.\n",
    "\n",
    "![](imagenes/img117.png)\n",
    "\n",
    "![](imagenes/img118.png)\n",
    "\n",
    "Para crear la relación una llave foránea, se da click en la parte abajo en la pestaña ForeignKeys\n",
    "\n",
    "![](imagenes/img119.png)\n",
    "\n",
    "Para crear una llave foránea, primero se escribe el nombre de la llave que por buenas prácticas lleva el nombre de las dos tablas a asociar, luego se selecciona en refereced table la tabla con la que se va a seleccionar, en column se selecciona la columna en la cual se coloca la llave foránea y la columna a la que va referenciada de la tabla a asociar. Por último se llena las acciones que debe realizar en Foreign Key Options, tanto cuando se actualiza o se borra un dato de la tabla con la cuál se une la llave foránea, para este caso hay cuatro opciones:\n",
    "\n",
    "- RESTRICT: No se puede actualizar o borrar un dato de la tabla que relaciona la llave foránea si no se actualiza o se borra los datos que contiene esta tabla.\n",
    "- CASCADE: Replica lo que se realice en la tabla que se relaciona, es decir, si se actualiza o se borra un dato en la tabla que se relaciona, este actualiza o borra en esta tabla.\n",
    "- SET NULL: Coloca NULL en el dato de la tabla cuando se actualiza o se borra el dato en la tabla que se asocia.\n",
    "- NO ACTION: No realiza nada si se borra o se actualiza un dato en la tabla que se asocia.\n",
    "\n",
    "Para este caso se coloca CASCADE en update y NO ACTION para delete\n",
    "\n",
    "![](imagenes/img120.png)\n",
    "\n",
    "![](imagenes/img121.png)\n"
   ]
  }
 ],
 "metadata": {
  "language_info": {
   "name": "python"
  },
  "orig_nbformat": 4
 },
 "nbformat": 4,
 "nbformat_minor": 2
}
