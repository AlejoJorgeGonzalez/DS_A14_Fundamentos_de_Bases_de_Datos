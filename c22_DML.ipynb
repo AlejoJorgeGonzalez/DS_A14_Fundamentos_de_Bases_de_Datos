{
 "cells": [
  {
   "cell_type": "markdown",
   "metadata": {},
   "source": [
    "# DML"
   ]
  },
  {
   "cell_type": "markdown",
   "metadata": {},
   "source": [
    "DML trata del contenido de la base de datos. Son las siglas de Data Manipulation Language y sus comandos principales son:\n",
    "\n",
    "Insert: Inserta o agrega nuevos registros a la tabla.\n",
    "Update: Actualiza o modifica los datos que ya existen.\n",
    "Delete: Esta sentencia es riesgosa porque puede borrar el contenido de una tabla.\n",
    "Select: Trae información de la base de datos.\n",
    "\n",
    "![](imagenes/img97.png)\n",
    "\n",
    "Para insertar nuevos valores se escribe 'INSERT INTO' Seguido del nombre de la tabla y entre parentesis los campos que se van a llenar, luego de esto se agregan los valores comenzando con la palabra 'VALUES' y entre parentesis los valores a insertar. En el workbech queda como\n",
    "\n",
    "![](imagenes/img98.png)\n",
    "\n",
    "La setencia Update se escribe de la siguiente forma\n",
    "\n",
    "![](imagenes/img99.png)\n",
    "\n",
    "Update actualiza o modifica los valores que ya están en la base de datos, se comienza con la palabra 'UPDATE' seguido de la tabla a modificar, luego 'SET' con los campos y el valor a actualizar y el lugar en el que se va a cambiar los valores con 'WHERE' y el campo y el valor del campo donde se va a realzar el cambio. También puede suceder que no se le coloque la última parte de la sentencia, es decir el 'WHERE', pero el cliente visual no permite estos cambios por ser un update inseguro.\n",
    "\n",
    "En el workbench se realiza la segunda sentencia\n",
    "\n",
    "![](imagenes/img100.png)\n",
    "\n",
    "Al realizar esto se genera un error, que es producido no por la sintaxis de SQL sino por el mismo Workbench, diciendo que se esta realizando un update inseguro, es decir, con este update se esta haciendo un cambio masivo que afecta muchos datos. Esta es una de las ventajas de utilizar un cliente visual, permite detectar procedimientos que puede ser inseguros para mantener los datos correctamente.\n",
    "\n",
    "![](imagenes/img101.png)\n",
    "\n",
    "Delete al igual que el drop son comandos que se debe utilizar con mucho cuidado, se puede utilizar de dos formas, la primera es escribiendo 'DELETE FROM' seguido de la tabla   y despues 'WHERE' con el campo en donde esta la línea que se va a borrar. La segunda forma es solamente escribir 'DELETE FROM' y la tabla y con esto se forma toda la tabla.\n",
    "\n",
    "![](imagenes/img102.png)\n",
    "\n",
    "Select es el comando mas poderoso de los que se han nombrado, lo que realiza es traer datos de la base de datos muchas veces para generar vistas o utilizar en otro lado. Esta sentencia tiene dos partes, la primera es escribir 'SELECT' con los campos que se desea extraer y la segunda es 'FROM' que es la tabla donde esta los campos a extraer. En ocasiones se agrega 'WHERE' para ser mas especifico de los datos que se requieren."
   ]
  }
 ],
 "metadata": {
  "language_info": {
   "name": "python"
  },
  "orig_nbformat": 4
 },
 "nbformat": 4,
 "nbformat_minor": 2
}
