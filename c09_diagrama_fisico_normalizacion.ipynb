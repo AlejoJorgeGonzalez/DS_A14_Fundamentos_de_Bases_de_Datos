{
 "cells": [
  {
   "cell_type": "markdown",
   "source": [
    "# Diagrama Físico: Normalización"
   ],
   "metadata": {}
  },
  {
   "cell_type": "markdown",
   "source": [
    "La normalización como su nombre lo indica nos ayuda a dejar todo de una forma normal. Esto obedece a las 12 reglas de Codd y nos permiten separar componentes en la base de datos. \n",
    "\n",
    "Para entender la normalización se comienza con una tabla que no esta normalizada.\n",
    "\n",
    "![img22](imagenes/img22.png)\n",
    "\n",
    "El proceso para normalizar comienza con la primera forma normal.\n",
    "\n",
    "**Primera forma normal (1FN): Atributos atómicos (Sin campos repetidos)**\n",
    "\n",
    "![img23](imagenes/img23.png)\n",
    "\n",
    "Se puede observar que hay dos campos repetidos, que son materia 1 y materia 2, este se convierte en un solo campo llamado campo, también se agrega un id único para cada alumno.\n",
    "\n",
    "**Segunda forma normal (2FN): Cumple 1FN y cada campo de la tabla debe depender de una clave única.**\n",
    "\n",
    "![img24](imagenes/img24.png)\n",
    "\n",
    "En el paso anterior se tiene varias veces repetido las filas por que se tiene diferentes materias, lo cuál no identifica de manera única un reglón, por lo tanto se separa el campo materias del campo alumnos y en el campo materias se agrega un nuevo campo que es el id_materia con el fin de tener un identificador único.\n",
    "\n",
    "**Tercera forma normal (3FN): Cumple 1FN y 2FN y los campos que NO son clave, NO deben tener dependencias.**\n",
    "\n",
    "![img25](imagenes/img25.png)\n",
    "\n",
    "Se separa los cursos de los alumnos, ya que varios alumnos pueden tener un mismo curso, por tanto se puede crear una entidad aparte de cursos y se asocia a alumnos por medio de un id que es único para cada curso.\n",
    "\n",
    "**Cuarta forma normal (4FN): Cumple 1FN, 2FN, 3FN y los campos multivaluados se identifican por una clave única.**\n",
    "\n",
    "![img26](imagenes/img26.png)\n",
    "\n",
    "En el anterior paso el campo materias se repite tanto el alumno como las materias, es decir es un campo multivaluado, por tanto se crea uno nuevo llamado materias por alumno el cuál se asocia la materia y el campo materia quedo sin elementos repetidos.\n"
   ],
   "metadata": {}
  }
 ],
 "metadata": {
  "orig_nbformat": 4,
  "language_info": {
   "name": "python"
  }
 },
 "nbformat": 4,
 "nbformat_minor": 2
}