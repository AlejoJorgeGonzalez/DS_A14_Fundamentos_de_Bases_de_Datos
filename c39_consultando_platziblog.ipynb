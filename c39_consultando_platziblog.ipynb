{
 "cells": [
  {
   "cell_type": "markdown",
   "metadata": {},
   "source": [
    "# CONSULTANDO PLATZIBLOG"
   ]
  },
  {
   "cell_type": "markdown",
   "metadata": {},
   "source": [
    "Puedes usar una abreviación para evitar escribir lo mismo cada vez.\n",
    "Ejemplo:\n",
    "\n",
    "\"FROM categorias AS c\"\n",
    "\n",
    "![](imagenes/img176.png)\n",
    "\n",
    "En SQL se puede realizar abreviaciones, que para este caso la tabla categorias se llama como c en el FROM con \"categoria AS c\", el cuál es utilizado en todo el Query, como también se abrevia \"posts AS p\". Para este caso la consulta es encontrar la categoría con mas número de post.\n",
    "\n",
    "![](imagenes/img177.png)\n",
    "\n",
    "Ahora se busca la cantidad  de post que ha realizado cada usuario ordenados de mayor a menor según el número de posts escritos, además de las categorías en los que escribe cada usuario.\n",
    "\n",
    "![](imagenes/img178.png)\n",
    "\n",
    "En el Query se muestra el usuario que no ha escrito nada en PlatziBlog\n"
   ]
  }
 ],
 "metadata": {
  "language_info": {
   "name": "python"
  },
  "orig_nbformat": 4
 },
 "nbformat": 4,
 "nbformat_minor": 2
}
