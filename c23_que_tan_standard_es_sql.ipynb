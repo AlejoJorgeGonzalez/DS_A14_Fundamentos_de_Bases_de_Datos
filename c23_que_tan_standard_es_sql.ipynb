{
 "cells": [
  {
   "cell_type": "markdown",
   "metadata": {},
   "source": [
    "# ¿QUÉ TAN STANDARD ES SQL?"
   ]
  },
  {
   "cell_type": "markdown",
   "metadata": {},
   "source": [
    "La utilidad más grande de SQL fue unificar la forma en la que pensamos y hacemos preguntas a un repositorio de datos. Ahora que nacen nuevas bases de datos igualmente siguen tomando elementos de SQL.\n",
    "\n",
    "La idea de estandarizar es que no importa en que ambiente o en que cliente gráfico este, una sentencia debe ser la misma. Se debe hablar un mismo lenguaje.\n",
    "\n",
    "En el Workbench de MySQL, para crear una tabla, se escribe lo siguiente\n",
    "\n",
    "![](imagenes/img103.png)\n",
    "\n",
    "Se ingresa un nuevo valor \n",
    "\n",
    "![](imagenes/img104.png)\n",
    "\n",
    "Ahora seleccionamos algunos campos para saber que quedaron guardados\n",
    "\n",
    "![](imagenes/img105.png)\n",
    "\n",
    "Por último, se elimina la tabla \n",
    "\n",
    "![](imagenes/img106.png)\n",
    "\n",
    "Es de anotar que este código se escribió en un ambiente local, pero ahora se va escribir este mismo código en un ambiente cloud, específicamente en el Google Cloud Platform.\n",
    "\n",
    "![](imagenes/img107.png)\n",
    "\n",
    "![](imagenes/img108.png)\n",
    "\n",
    "![](imagenes/img109.png)\n",
    "\n",
    "![](imagenes/img110.png)\n",
    "\n",
    "Los comandos funcionan de la misma manera, sin importar si se esta en un ambiente local o en un cloud."
   ]
  },
  {
   "cell_type": "markdown",
   "metadata": {},
   "source": []
  }
 ],
 "metadata": {
  "language_info": {
   "name": "python"
  },
  "orig_nbformat": 4
 },
 "nbformat": 4,
 "nbformat_minor": 2
}
