{
 "cells": [
  {
   "cell_type": "markdown",
   "metadata": {},
   "source": [
    "# ¿POR QUÉ LAS CONSULTAS SON TAN IMPORTANTES?"
   ]
  },
  {
   "cell_type": "markdown",
   "metadata": {},
   "source": [
    "Las consultas o queries a una base de datos son una parte fundamental ya que esto podría salvar un negocio o empresa.\n",
    "\n",
    "La empresas tiene una gran necesidad por información correcta, exacta y oportuna y esta información muchas veces se puede extraer de las bases de datos que ya se tienen. En las bases de datos se tienen clientes, se tienen productos, proveedores y una gran cantidad de entidades que por separado no tienen mucho sentido, pero que se pueden mezclar para obtener informe y/o tendencias, para que las personas a cargo de la empresa puedan tomar las decisiones correctas.\n",
    "\n",
    "Alrededor de las consultas a las bases de datos se han creado varias especialidades como ETL o transformación de datos, business intelligence e incluso machine learning."
   ]
  }
 ],
 "metadata": {
  "language_info": {
   "name": "python"
  },
  "orig_nbformat": 4
 },
 "nbformat": 4,
 "nbformat_minor": 2
}
