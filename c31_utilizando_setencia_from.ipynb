{
 "cells": [
  {
   "cell_type": "markdown",
   "metadata": {},
   "source": [
    "# UTILIZANDO LA SENTENCIA FROM"
   ]
  },
  {
   "cell_type": "markdown",
   "metadata": {},
   "source": [
    "![](imagenes/img143.png)\n",
    "\n",
    "![](imagenes/img145.png)\n",
    "\n",
    "En esta sentencia se selecciona toda la tabla usuarios, para luego realizar un LEFT JOIN  con posts donde ON el id de los usuarios es el mismo usuario_id. La tabla que trae como nueva tiene todos los campos de usuario seguido de todos los campos de posts, observe que hay un usuario al final que no ha aportado nada de posts a la base de datos, sin embargo se agrega al LEFT JOIN ya que según el diagrama se agrega todos los datos de la izquierda asi no tenga datos en el conjunto de la derecha.\n",
    "\n",
    "![](imagenes/img146.png)\n",
    "\n",
    "Agregando un WHERE con los usuario_id del posts son nulos, se obtiene los datos que pertenecen solamente al conjunto de la izquierda.\n",
    "\n",
    "![](imagenes/img147.png)\n",
    "\n",
    "El RIGHT Selecciona todos los datos de la derecha (POSTS) y los datos de USUARIOS que los asocia, hasta los datos que no tienen USUARIOS.\n",
    "\n",
    "![](imagenes/img148.png)\n",
    "\n",
    "Al agregar el WHERE se selecciona los datos que no tiene USUARIOS, sin embargo en este caso no aparece ningún dato ya que todos los posts tienen usuario.\n",
    "\n",
    "![](imagenes/img144.png)\n",
    "\n",
    "![](imagenes/img149.png)\n",
    "\n",
    "INNER JOIN muestra los datos que están presente en ambas tablas, es decir la intersección entre ambas tablas.\n",
    "\n",
    "![](imagenes/img150.png)\n",
    "\n",
    "Con un LEFT JOIN uniéndolo con el RIGHT JOIN, se obtiene el universo completo de las dos tablas.\n",
    "\n",
    "![](imagenes/img151.png)\n",
    "\n",
    "Con la sentencia anterior agregándole el WHERE en ambos lados de la tabla se obtiene los datos que no están en la intersección de las dos tablas.\n",
    "\n",
    "Así como se realizo con dos tablas, estos querys también se puede realizar con el numero de tablas que se deseen."
   ]
  }
 ],
 "metadata": {
  "language_info": {
   "name": "python"
  },
  "orig_nbformat": 4
 },
 "nbformat": 4,
 "nbformat_minor": 2
}
