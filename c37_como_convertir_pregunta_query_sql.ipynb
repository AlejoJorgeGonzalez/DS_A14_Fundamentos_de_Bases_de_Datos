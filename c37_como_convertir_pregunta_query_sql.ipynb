{
 "cells": [
  {
   "cell_type": "markdown",
   "metadata": {},
   "source": [
    "# ¿CÓMO CONVERTIR UNA PREGUNTA EN UN QUERY SQL?"
   ]
  },
  {
   "cell_type": "markdown",
   "metadata": {},
   "source": [
    "De pregunta a Query\n",
    "\n",
    "- SELECT: Lo que quieres mostrar, que datos, que información se quiere mostrar al usuario.\n",
    "- FROM: De dónde voy a tomar los datos.\n",
    "- WHERE: Los filtros de los datos que quieres mostrar\n",
    "- GROUP BY: Los rubros por los que me interesa agrupar la información\n",
    "- ORDER BY: El orden en que quiero presentar mi información\n",
    "- HAVING: Los filtros que quiero que mis datos agrupados tengan\n"
   ]
  }
 ],
 "metadata": {
  "language_info": {
   "name": "python"
  },
  "orig_nbformat": 4
 },
 "nbformat": 4,
 "nbformat_minor": 2
}
