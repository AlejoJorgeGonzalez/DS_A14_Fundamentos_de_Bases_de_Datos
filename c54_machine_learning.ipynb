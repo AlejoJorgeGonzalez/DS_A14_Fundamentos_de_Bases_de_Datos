{
 "cells": [
  {
   "cell_type": "markdown",
   "metadata": {},
   "source": [
    "# MACHINE LEARNING"
   ]
  },
  {
   "cell_type": "markdown",
   "metadata": {},
   "source": [
    "Machine Learning tiene significados que varían. Es una serie de técnicas que involucran la inteligencia artificial y la detección de patrones.\n",
    "\n",
    "Machine learning para datos tiene un gran campo de acción y es un paso más allá del business intelligence.\n",
    "\n",
    "Nos ayuda a hacer modelos a partir de un mar de datos que encuentran patrones fortuitos encontrando correlaciones inesperadas que una persona a través de Business Intelligence quizas no pueda ver.\n",
    "\n",
    "Machine Learning busca relaciones que para una persona es casi imposible verlos o que demoraría mucho tiempo para hallar esta relación.\n",
    "\n",
    "Tiene dos casos de uso particulares:\n",
    "\n",
    "\t• Clasificación\n",
    "\t• Predicción\n"
   ]
  }
 ],
 "metadata": {
  "language_info": {
   "name": "python"
  },
  "orig_nbformat": 4
 },
 "nbformat": 4,
 "nbformat_minor": 2
}
