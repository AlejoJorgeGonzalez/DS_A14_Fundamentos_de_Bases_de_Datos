{
 "cells": [
  {
   "cell_type": "markdown",
   "source": [
    "Las relaciones nos permiten ligar o unir nuestras diferentes entidades y se representan con rombos. Por convención se definen a través de verbos.\n",
    "\n",
    "![img12](imagenes/img12.png)\n",
    "\n",
    "Imagina que se tiene dos identidades, Automovil y Dueño, normalmente las relaciones se expresan con verbos, para este caso, ese verbo es \"tiene\" el cuál se encierra en un rombo.\n",
    "\n",
    "Otro ejemplo son las identidades \"Jugadores\" y \"Equipos\", el cual se relacionan por medio del verbo \"pertenece\".\n",
    "\n",
    "![img13](imagenes/img13.png)\n",
    "\n",
    "Otro ejemplo con la relación \"tiene\" son las identidades laptops y discos_duros, pero en clases pasadas tratamos a discos_duros como un atributo multivaluado, por lo que generalmente si se tiene atributos multivaluados, lo normal es pasarlos a identidades separadas, ya que tiene una vida misma y se pueden relacionar con la identidad, la relación entre los discos_duros y laptops estan dentro de la propiedad de la cardinalidad.\n",
    "\n",
    "Las relaciones tienen una propiedad llamada cardinalidad y tiene que ver con números. Cuántos de un lado pertenecen a cuántos del otro lado:\n",
    "\n",
    "Cardinalidad: 1 a 1\n",
    "\n",
    "![img14](imagenes/img14.png)\n",
    "\n",
    "Para entender la cardinalidad, se debe preguntar ¿Una persona cuantos datos_contacto tiene? En esta caso la respuesta es uno, ahora se pregunta al contrario ¿Un dato_contacto cuantas personas tiene? La respuesta es 1 y por lo tanto se tiene una cardinalidad 1 a 1 \n",
    "\n",
    "Cardinalidad: 0 a 1\n",
    "\n",
    "![img15](imagenes/img15.png)\n",
    "\n",
    "En este caso la sesion_actual tiene un usuario pero el usuario puede que no tenga una sesion_actual, por tanto es una cardinalidad de 0 a 1.\n",
    "\n",
    "Cardinalidad: 1 a N\n",
    "\n",
    "![img16](imagenes/img16.png)\n",
    "\n",
    "Una persona puede tener muchos automóviles, pero un automovil puede pertenecer a una sola persona por lo tanto se tiene una cardinalidad de 1 a N\n",
    "\n",
    "Cardinalidad: 0 a N\n",
    "![img17](imagenes/img17.png)\n",
    "\n",
    "Un paciente tiene una habitación de hospital pero un habitación de hospital puede tener varios paciente o ninguno por lo tanto tiene una cardinalidad de 0 a N."
   ],
   "metadata": {}
  }
 ],
 "metadata": {
  "orig_nbformat": 4,
  "language_info": {
   "name": "python"
  }
 },
 "nbformat": 4,
 "nbformat_minor": 2
}