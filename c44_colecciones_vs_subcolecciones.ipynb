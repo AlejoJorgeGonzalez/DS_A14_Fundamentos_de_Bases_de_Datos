{
 "cells": [
  {
   "cell_type": "markdown",
   "metadata": {},
   "source": [
    "# COLECCIONES VS. SUBCOLECIONES"
   ]
  },
  {
   "cell_type": "markdown",
   "metadata": {},
   "source": [
    "La particularidad de las top level collections es que existen en el primer nivel de manera intrínseca. Las subcolecciones ya no vivirán al inicio de la base de datos.\n",
    "\n",
    "Si tienes una entidad separada que vas a referenciar desde muchos lugares es recomendado usar un top level collection. Por el otro lado si se necesita hacer algo intrínseco al documento es aconsejable usar subcolecciones.\n",
    "\n",
    "Es de anotar que la base de datos no relacional de firestore permite una libertad en los datos que se ingresa, en una base de dato relacional, los datos a pedir del campo son planificados  con anterioridad hasta dándole en ciertos casos que no debe ser nulo, sin embargo, en firestore se pueden colocar distintos datos o no poner algunos o cambiarlos , etc.\n",
    "\n",
    "![](imagenes/img193.png)\n",
    "\n",
    "Para este caso se crea una nueva colección llamada posts, dentro de este se crea un nuevo documento con los campos titulo, contenido y fecha de publicación. Note como dentro de documento se puede crear una colección, a esto se le conoce como subcoleciones, pero es importante saber que esta subcolección va a estar referenciado al documento y no a la base de datos.\n",
    "\n",
    "![](imagenes/img194.png)\n",
    "\n",
    "Se crea la subcolección etiquetas dentro de documentos, en cual se crea dos documentos."
   ]
  }
 ],
 "metadata": {
  "language_info": {
   "name": "python"
  },
  "orig_nbformat": 4
 },
 "nbformat": 4,
 "nbformat_minor": 2
}
