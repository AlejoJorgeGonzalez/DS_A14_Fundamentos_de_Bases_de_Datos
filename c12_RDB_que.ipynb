{
 "cells": [
  {
   "cell_type": "markdown",
   "source": [
    "# RDB ¿QUE?"
   ],
   "metadata": {}
  },
  {
   "cell_type": "markdown",
   "source": [
    "RDBMS significa Relational Database Management System o sistema manejador de bases de datos relacionales. Es un programa que se encarga de seguir las reglas de Codd y se puede utilizar de manera programática.\n",
    "\n",
    "Hay diferentes tipos de manejadores de bases de datos relacionales como por ejemplo Oracle que es una de las mas importantes, mySQL que es la mas grande que ahora le pertenece a Oracle tambien y postgreSQL el cuál es open source.\n"
   ],
   "metadata": {}
  }
 ],
 "metadata": {
  "orig_nbformat": 4,
  "language_info": {
   "name": "python"
  }
 },
 "nbformat": 4,
 "nbformat_minor": 2
}