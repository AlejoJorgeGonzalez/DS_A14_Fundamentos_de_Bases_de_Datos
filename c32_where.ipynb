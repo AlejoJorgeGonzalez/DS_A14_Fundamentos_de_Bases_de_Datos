{
 "cells": [
  {
   "cell_type": "markdown",
   "metadata": {},
   "source": [
    "# WHERE"
   ]
  },
  {
   "cell_type": "markdown",
   "metadata": {},
   "source": [
    "WHERE es la sentencia que nos ayuda a filtrar tuplas o registros dependiendo de las características que elegimos.\n",
    "\n",
    "- La propiedad LIKE nos ayuda a traer registros de los cuales conocemos sólo una parte de la información.\n",
    "- La propiedad BETWEEN nos sirve para arrojar registros que estén en el medio de dos. Por ejemplo los registros con id entre 20 y 30.\n",
    "\n",
    "![](imagenes/img152.png)\n",
    "\n",
    "El WHERE ayuda a filtrar los datos, para este caso se filtra aquellos id que sean menores a 50\n",
    "\n",
    "![](imagenes/img153.png)\n",
    "\n",
    "El igual en el WHERE es de gran utilidad para saber que datos se tiene con cierta coincidencia.\n",
    "\n",
    "![](imagenes/img154.png)\n",
    "\n",
    "También se puede utilizar la negación (!=) para seleccionar los datos que no sean iguales a cierto criterio\n",
    "\n",
    "![](imagenes/img155.png)\n",
    "\n",
    "LIKE es de gran ayuda cuando no se conoce exactamente algún valor, pero si parte de esta, para este caso se busca un posts en el cuál en su título tenga la palabra 'escandalo', note que se escribe en medio de dos porcentajes %% para decirle que la palabra puede tener mas texto antes y después, es decir esta entre un texto.\n",
    "\n",
    "![](imagenes/img156.png)\n",
    "\n",
    "El WHERE también funciona para fechas\n",
    "\n",
    "![](imagenes/img157.png)\n",
    "\n",
    "Si se quiere consultar los datos entre dos fechas o dos valores se utiliza BETWEEN seguido desde la fecha a consultar AND y hasta que fecha se va a consultar\n",
    "\n",
    "![](imagenes/img158.png)\n",
    "\n",
    "También se puede utilizar el comando YEAR para obtener el año, MONTH para el mes."
   ]
  }
 ],
 "metadata": {
  "language_info": {
   "name": "python"
  },
  "orig_nbformat": 4
 },
 "nbformat": 4,
 "nbformat_minor": 2
}
