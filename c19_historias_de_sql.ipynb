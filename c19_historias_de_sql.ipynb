{
 "cells": [
  {
   "cell_type": "markdown",
   "metadata": {},
   "source": [
    "# HISTORIA DE SQL"
   ]
  },
  {
   "cell_type": "markdown",
   "metadata": {},
   "source": [
    "SQL significa Structured Query Language o Lenguaje de Consulta estructurado, este lenguaje resulta de la necesidad de una consulta de datos en una epoca en que no existia una estandarización para realizar esta consulta. Entonces SQL surge como un lenguaje para hacer una busqueda sin importar que manejador de base de datos se utilice por medio de la unificación de estos. Es decir, Su objetivo es hacer un solo lenguaje para consultar cualquier manejador de bases de datos volviéndose un gran estándar.\n",
    "\n",
    "Ahora existe el NOSQL o Not Only Structured Query Language que significa que no sólo se utiliza SQLen las bases de datos no relacionales. Esto necesariamente no significa que no se use SQL, es mas, hay bases de datos que en parte no son relacionales, por lo que se utiliza NOSQL juntado con SQL para las partes que si son relacionales, por lo que un NOSQL todavía tiene como base un SQL.\n",
    "\n",
    "Un ejemplo de NOSQL es Cassandra o BigQuery."
   ]
  }
 ],
 "metadata": {
  "language_info": {
   "name": "python"
  },
  "orig_nbformat": 4
 },
 "nbformat": 4,
 "nbformat_minor": 2
}
