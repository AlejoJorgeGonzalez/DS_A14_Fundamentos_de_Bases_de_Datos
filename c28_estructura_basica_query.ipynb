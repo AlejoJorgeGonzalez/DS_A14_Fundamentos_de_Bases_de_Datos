{
 "cells": [
  {
   "cell_type": "markdown",
   "metadata": {},
   "source": [
    "# ESTRUCTURA BÁSICA DE UN QUERY"
   ]
  },
  {
   "cell_type": "markdown",
   "metadata": {},
   "source": [
    "Los queries son la forma en la que estructuramos las preguntas que se harán a la base de datos. Transforma preguntas en sintaxis.\n",
    "\n",
    "El query tiene básicamente 2 partes: SELECT y FROM y puede aparecer una tercera como WHERE. La estrellita o asterisco (*) quiere decir que vamos a seleccionar todo sin filtrar campos.\n",
    "\n",
    "\n",
    "![](imagenes/img137.png)\n",
    "\n",
    "SELECT trae los datos que se quiere seleccionar, para este caso city y count, las cuales las crea en total. El FROM señala en que tabla se encuentra los datos a buscar, WHERE es la condición para que se seleccione los datos. Despues se tiene GROUP BY, que ordena los datos en grupo según como se quiera, en este caso por city y ORDER BY que ordena la tabla de datos que para este caso en según la cantidad de total y de manera descendiente. Por último el HAVING que es un filtro para los datos seleccionados el cuál para este caso son los que tenga un total mayor o igual a 2.\n",
    "\n",
    "\n",
    "![](imagenes/img138.png)\n",
    "\n",
    "La forma mas básica de seleccionar es datos es solamente con SELECT y FROM\n",
    "\n",
    "\n",
    "![](imagenes/img139.png)\n",
    "\n",
    "Sin embargo, la mas forma usual de encontrarlo es con WHERE\n"
   ]
  }
 ],
 "metadata": {
  "language_info": {
   "name": "python"
  },
  "orig_nbformat": 4
 },
 "nbformat": 4,
 "nbformat_minor": 2
}
