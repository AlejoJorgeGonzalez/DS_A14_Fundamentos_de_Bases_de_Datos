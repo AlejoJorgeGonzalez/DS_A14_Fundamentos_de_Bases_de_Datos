{
 "cells": [
  {
   "cell_type": "markdown",
   "source": [
    "# Diagrama Físico: Tipos de Datos y Constraints"
   ],
   "metadata": {}
  },
  {
   "cell_type": "markdown",
   "source": [
    "Otro diagrama muy utilizado es el diagrama físico, pero primero se debe conocer los tipos de datos:\n",
    "\n",
    "![img20](imagenes/img20.png)\n",
    "\n",
    "Existen muchos mas tipos de datos, pero los mas utilizados son:\n",
    "\n",
    "- Texto: CHAR(n) que almacena caracteres como cadenas, VARCHAR(n) es igual que el CHAR pero se diferencia en que este tiene una memoria dinámica, TEXT que es utilizado en cadenas largas de caracteres ya que los otros solo almacenan hasta 255 caracteres.\n",
    "- Números: INTEGER o entero, BIGINT o big integer que son utilizados para números muy grandes, SMALLINT o small integer que son utilizados en números menores a 99, DECIMAL(n,s) que recibe dos parametros, el numero y el numero decimales, NUMERIC(n,s) es igual que DECIMAL.\n",
    "- Fecha/hora: DATE que es la fecha año-mes-día, TIME que es la hora, DATETIME y TIMESTAMP tienen el DATE y el TIME al mismo tiempo.\n",
    "- Lógicos: BOOLEAN o el dato de Falso y Verdadero.\n",
    "\t\n",
    "Otro concepto necesarios para comprender los diagramas físicos son los Constraints (Restricciones) que son los siguientes:\n",
    "\n",
    "![img21](imagenes/img21.png)\n",
    "\n",
    "- NOT NULL: Se asegura que la columna no tenga valores nulos.\n",
    "- UNIQUE: Se asegura que cada valor en la columna no se repita.\n",
    "- PRIMARY KEY: Es una combinación de NOT NULL y UNIQUE, es la que va a permitir crear las relaciones entre entidades.\n",
    "- FOREIGN KEY: Identifica de manera única una tupla en otra tabla, también llamada llave foránea, es necesaria para crear relaciones en entidades con diferente atributos, creado la relación entre un primary key con un foreign key.\n",
    "- CHECK: Se asegura que el valor en la columna cumpla una condición dada.\n",
    "- DEFAULT: Coloca un valor por defecto cuando no hay un valor especificado.\n",
    "- INDEX: Se crea por columna para permitir búsquedas más rápidas.\n"
   ],
   "metadata": {}
  }
 ],
 "metadata": {
  "orig_nbformat": 4,
  "language_info": {
   "name": "python"
  }
 },
 "nbformat": 4,
 "nbformat_minor": 2
}