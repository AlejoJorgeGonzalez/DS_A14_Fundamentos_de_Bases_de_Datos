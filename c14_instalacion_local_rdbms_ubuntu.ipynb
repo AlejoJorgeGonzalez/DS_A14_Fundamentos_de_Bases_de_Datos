{
 "cells": [
  {
   "cell_type": "markdown",
   "source": [
    "# INSTALACIÓN LOCAL DE UN RDBMS (UBUNTU)"
   ],
   "metadata": {}
  },
  {
   "cell_type": "markdown",
   "source": [
    "Visita la dirección de descarga de la versión de comunidad de MySql\n",
    "[Download MySQL](https://dev.mysql.com/downloads/mysql/5.7.html#downloads)\n",
    "\n",
    "Dirígete a la sección de selección de descargas y selecciona tu distribución de Linux. En nuestro caso Ubuntu y selecciona posteriormente la versión que estás utilizando actualmente, en nuestro caso 18.04 de 64 bits.\n",
    "\n",
    "![](imagenes/img51.png)\n",
    "\n",
    "Más abajo encontrarás las diferentes opciones de descarga existen diversos paquetes dependiendo tus necesidades. En el caso del ejemplo usaremos la versión deb bundle. Da click en el botón Download seleccionado.\n",
    "\n",
    "![](imagenes/img52.png)\n",
    "\n",
    "En la siguiente pantalla nos piden que nos registremos o iniciemos sesión, pero ya que solo queremos la descarga daremos click en el link que se encuentre en la parte de abajo.\n",
    "\n",
    "![](imagenes/img53.png)\n",
    "\n",
    "Espera a que la descarga concluya.\n",
    "Al terminar abre el archivo .tar con el desempaquetador de tu preferencia.\n",
    "\n",
    "![](imagenes/img54.png)\n",
    "\n",
    "Extrae el contenido en la carpeta de tu preferencia.\n",
    "\n",
    "![](imagenes/img55.png)\n",
    "\n",
    "Selecciona el archivo de servidor de comunidad y ábrelo con tu manejador de paquetes instalado.\n",
    "\n",
    "![](imagenes/img56.png)\n",
    "\n",
    "![](imagenes/img57.png)\n",
    "\n",
    "Da click en instalar.\n",
    "Finalmente puedes ir a la consola o terminal de Ubuntu y escribir el siguiente comando.\n",
    "\n",
    "sudo mysql\n",
    "\n",
    "![](imagenes/img58.png)\n",
    "\n",
    "A continuación deberá aparecer una ventana con el prompt de mysql donde ya puedes comenzar a ejecutar los comandos de las lecciones.\n",
    "\n",
    "![](imagenes/img59.png)\n",
    "\n",
    "Nota: recuerda estar seguro que las dependencias para el paquete se cumplen para instalar.\n",
    "Nota: muchas veces las distribuciones ya cuentan con paquetes en su repositorio, en ese caso también puedes ejecutar el comando:\n",
    "\n",
    "sudo apt-get install mysql-server\n",
    "\n"
   ],
   "metadata": {}
  }
 ],
 "metadata": {
  "orig_nbformat": 4,
  "language_info": {
   "name": "python"
  }
 },
 "nbformat": 4,
 "nbformat_minor": 2
}