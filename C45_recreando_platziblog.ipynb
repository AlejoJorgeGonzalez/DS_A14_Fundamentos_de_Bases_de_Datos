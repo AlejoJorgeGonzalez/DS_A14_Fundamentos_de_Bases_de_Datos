{
 "cells": [
  {
   "cell_type": "markdown",
   "metadata": {},
   "source": [
    "# RECREANDO PLATZIBLOG"
   ]
  },
  {
   "cell_type": "markdown",
   "metadata": {},
   "source": [
    "Cuando se crea una base de datos, lo primero es saber que colecciones vas a ser top level collection y cuáles no, esto se realiza para el caso de plaziblog, recordando que no existe una regla general y depende mucho del criterio sobre el contexto en el que trabaja y si esta base de datos se va a consultar de manera recurrente. Si se consulta mucho lo recomendable es poner la colección en un top level collection.\n",
    "\n",
    "Para el caso de platziblog, usuarios va  a ser una subcolección de posts. Posts va a ser un top level collection. Comentarios va a estar dentro de posts. Las categorias puedes estar en un top level collection o dentro de post. Etiquetas va a estar dentro de posts."
   ]
  }
 ],
 "metadata": {
  "language_info": {
   "name": "python"
  },
  "orig_nbformat": 4
 },
 "nbformat": 4,
 "nbformat_minor": 2
}
