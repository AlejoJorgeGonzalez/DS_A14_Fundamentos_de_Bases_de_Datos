{
 "cells": [
  {
   "cell_type": "markdown",
   "metadata": {},
   "source": [
    "# DDL CREATE"
   ]
  },
  {
   "cell_type": "markdown",
   "metadata": {},
   "source": [
    "SQL tiene dos grandes sublenguajes:\n",
    "\n",
    "El primero es el DDL o Data Definition Language que nos ayuda a crear la estructura de una base de datos. Existen 3 grandes comandos:\n",
    "\n",
    "- Create: Nos ayuda a crear bases de datos, tablas, vistas, índices, etc.\n",
    "- Alter: Ayuda a alterar o modificar entidades.\n",
    "- Drop: Nos ayuda a borrar. Hay que tener mucho cuidado al utilizarlo.\n",
    "\n",
    "3 objetos que manipularemos con el lenguaje DDL:\n",
    "\n",
    "- Database o bases de datos, también conocidos como schemas.\n",
    "- Table o tablas. Son la traducción a SQL de las entidades\n",
    "- View o vistas: Se ofrece la proyección de los datos de la base de datos de forma entendible.\n",
    "\n",
    "Ahora se muestra varias sentencias para entender su significado\n",
    "\n",
    "![](imagenes/img73.png)\n",
    "\n",
    "Es de anotar que en algunas ocasiones se utiliza SCHEMA en ves del DATABASE, en la primera línea 'CREATE DATABASE test_db;' se crea la base de datos que para este caso se llama test_db. En la segunda línea 'USE DATABASE test_db', se le dice que se va a utilizar esta base de datos, es importante decirle en que base de datos se va a trabajar, porque si no se realiza, el lenguaje no va saber a que base de datos se refiere.\n",
    "\n",
    "En MySQL cuando se crea la base de datos al final aparece esta ventana\n",
    "\n",
    "![](imagenes/img63.png)\n",
    "\n",
    "Se observa que automáticamente muestra cual fue la sentencia que realizo, que para este caso en el CREATE, adicional configuro el estandar utf8.\n",
    "\n",
    "![](imagenes/img74.png)\n",
    "\n",
    "Al darle click derecho sobre el SCHEMAS que se acaba de crear, muestra la opción 'set as Default Schema', que es el equivalente a USE para elegir la base de datos en la que se va a trabajar.\n",
    "\n",
    "Ahora, el siguiente paso es crear una tabla, para la cual su sentencia es\n",
    "\n",
    "![](imagenes/img75.png)\n",
    "\n",
    "La creación de una tabla es mas complejo porque se debe agregar el tipo de datos que va a recibir además de los constraints que tiene en el diagrama físico. En la imagen se observa que se crea una tabla llamada 'people' que tiene como campos el 'person_id', 'last_name', 'first_name', 'adress' y 'city', en la misma línea de cada campo se agrega el tipo de dato que va a contener y en el caso de ser varchar el número maximo de caracteres. \n",
    "\n",
    "El el workbench esta operación se realiza de la sigueinte manera\n",
    "\n",
    "![](imagenes/img76.png)\n",
    "\n",
    "En tables con click derecho se selecciona create table\n",
    "\n",
    "![](imagenes/img77.png)\n",
    "\n",
    "En la tabla que aparece se llenan los datos, note que 'person_id ' tiene seleccionado PK (Primary Key), NN(Not null) y AI(Auto Incremental), despues se da click en Apply\n",
    "\n",
    "![](imagenes/img78.png)\n",
    "\n",
    "Antes de crearlo, muestra en lenguaje SQL la instancia a realizar, despues de revisado se da en apply.\n",
    "\n",
    "Enlaces Externos:\n",
    "\n",
    "https://www.w3schools.in/mysql/ddl-dml-dcl/\n",
    "\n",
    "https://en.wikipedia.org/wiki/Data_definition_language\n"
   ]
  }
 ],
 "metadata": {
  "language_info": {
   "name": "python"
  },
  "orig_nbformat": 4
 },
 "nbformat": 4,
 "nbformat_minor": 2
}
