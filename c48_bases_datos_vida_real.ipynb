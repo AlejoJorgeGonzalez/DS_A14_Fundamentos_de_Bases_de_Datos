{
 "cells": [
  {
   "cell_type": "markdown",
   "metadata": {},
   "source": [
    "# BASES DE DATOS EN LA VIDA REAL"
   ]
  },
  {
   "cell_type": "markdown",
   "metadata": {},
   "source": [
    "Las bases de datos relacionales son muy útiles porque permite que ingresar información, permiten la busqueda de cualquier tipo de datos, realizar querys, además que son excelentes para guardar datos durante mucho tiempo, sin embargo cuando los datos empiezan a ser muy grandes en el orden de millones o billones de datos, empiezan a tener problemas, por lo que requiere pensar en un cambio en una base de datos no relacionales, los cuáles funcionan muy bien en casos de big data.\n",
    "\n",
    "De las bases de datos:\n",
    "\n",
    "Big Query: Guardar mucha información, guardar querys complejos a alta velocidad, utilizado cuando los datos no son consultados de manera inmediata, sino datos que van a estar guardados por largos tiempos y son necesarios para querys posteriores.\n",
    "\n",
    "Firestore, Mongo DB: Son utilizados cuando se requiere datos al instante como por ejemplo ubicación, el estado de un juego, etc. Muy utilizado en aplicaciones móviles. Sin embargo no es muy eficiente para realizar querys, realizar ordenamientos o filtraciones de datos.\n"
   ]
  }
 ],
 "metadata": {
  "language_info": {
   "name": "python"
  },
  "orig_nbformat": 4
 },
 "nbformat": 4,
 "nbformat_minor": 2
}
