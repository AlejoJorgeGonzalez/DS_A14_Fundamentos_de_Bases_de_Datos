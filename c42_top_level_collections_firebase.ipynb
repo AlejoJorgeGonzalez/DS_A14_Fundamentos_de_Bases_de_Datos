{
 "cells": [
  {
   "cell_type": "markdown",
   "metadata": {},
   "source": [
    "# TOP LEVEL COLLECTION CON FIREBASE"
   ]
  },
  {
   "cell_type": "markdown",
   "metadata": {},
   "source": [
    "El modelo de bases de datos no relacionales es un poco más cercano al mundo real en su comportamiento.\n",
    "\n",
    "- Las top level collections son las colecciones que se tienen de inmediato o entrada en el proyecto.\n",
    "- Firebase es un servicio que tiene múltiples opciones y está pensado principalmente para aplicaciones móviles y web.\n",
    "\n",
    "![](imagenes/img180.png)\n",
    "\n",
    "Para comenzar se crea un nuevo Proyecto\n",
    "\n",
    "![](imagenes/img181.png)\n",
    "\n",
    "Se crea el nombre de proyecto y clic en continuar\n",
    "\n",
    "![](imagenes/img182.png)\n",
    "\n",
    "Se puede selecciona los analytics que se desean, para este caso se selecciona todas\n",
    "\n",
    "![](imagenes/img183.png)\n",
    "\n",
    "Por ultimo se da clic en crear proyecto \n",
    "\n",
    "![](imagenes/img184.png)\n",
    "\n",
    "Firebase es una aplicación pensada para el desarrollo web, que contiene varias herramientas para el funcionamiento de la pagina web, pero para este caso solamente se concentra en Firestore Database.\n",
    "\n",
    "![](imagenes/img185.png)\n",
    "\n",
    "Se da clic en crear base de datos\n",
    "\n",
    "![](imagenes/img186.png)\n",
    "\n",
    "Luego clic en modo producción y siguiente\n",
    "\n",
    "![](imagenes/img187.png)\n",
    "\n",
    "Se selecciona la ubicación del servidor donde estará la base de datos\n",
    "\n",
    "![](imagenes/img188.png)\n",
    "\n",
    "Creada la base de datos se puede observar la jerarquía, ya esta la base de datos llamada platziblog y sigue las colecciones, las colecciones que estan justo despues de la base de datos se conoce como top level collections \n",
    "\n",
    "![](imagenes/img189.png)\n",
    "\n",
    "Al crear una colección, automaticamente pide crear el documento que es la tercera parte de la jerarquía, para este caso el documento se llama last_name \n",
    "\n",
    "![](imagenes/img190.png)\n",
    "\n",
    "De esta forma queda creado la colección people que tiene ya un documento asociado.\n",
    "\n",
    "Enlaces Externos\n",
    "\n",
    "[Firebase](https://firebase.google.com/)"
   ]
  }
 ],
 "metadata": {
  "language_info": {
   "name": "python"
  },
  "orig_nbformat": 4
 },
 "nbformat": 4,
 "nbformat_minor": 2
}
