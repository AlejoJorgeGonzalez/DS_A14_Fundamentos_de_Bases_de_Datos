{
 "cells": [
  {
   "cell_type": "markdown",
   "metadata": {},
   "source": [
    "# DATA SCIENCE"
   ]
  },
  {
   "cell_type": "markdown",
   "metadata": {},
   "source": [
    "Data Science es aplicar todas las técnicas de procesamiento de datos. En su manera más pura tiene que ver con gente con un background de estadísticas y ciencias duras. Sin embargo, esta muy complementada con el data engenering, que es la parte de transformación, limpieza y manipulación de datos.\n",
    "\n",
    "El Data Scientist tiene la experiencia y la sensibilidad por saber cuando aplicar cada cosa, que herramientas son útiles para ciertas cosas, por lo tanto el data scientist juega el papel de manager, el encargado de llevar los proyectos a la practica, sugiere las contrataciones de los colaboradores y en que áreas se necesitan.\n"
   ]
  }
 ],
 "metadata": {
  "language_info": {
   "name": "python"
  },
  "orig_nbformat": 4
 },
 "nbformat": 4,
 "nbformat_minor": 2
}
