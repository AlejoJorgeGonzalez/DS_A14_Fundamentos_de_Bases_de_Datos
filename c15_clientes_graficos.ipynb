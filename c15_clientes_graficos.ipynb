{
 "cells": [
  {
   "cell_type": "markdown",
   "source": [
    "# CLIENTES GRÁFICOS"
   ],
   "metadata": {}
  },
  {
   "cell_type": "markdown",
   "source": [
    "El workbench o clientes gráficos es una forma de mostrar gráficamente una base de datos dentro de MySQL, haciendo mas amigable una base de datos MySQL. Existen diferentes proveedores, sin embargo se utiliza el creado por el mismo SQL, llamado WorkbenchMySQL.\n",
    "\n",
    "![](imagenes/img60.png)\n",
    "\n",
    "Al entrar ya aparece la conexión que se tiene, que en este caso es 'Local Instance MySQL8.0, al lado de este aparece el simbolo + para agregar nuevas bases de datos. Al darle Click a la base de datos aparece lo siguiente:\n",
    "\n",
    "![](imagenes/img61.png)\n",
    "\n",
    "Al lado izquierdo en schemas se ven las diferentes tablas de la bases de datos, se puede agregar una haciendo click derecho en el espacio de schemas.\n",
    "\n",
    "![](imagenes/img62.png)\n",
    "\n",
    "Se crea una nueva tabla llamada platziblog que va a contener caracteres especiales como la ñ por ejemplo, por tanto se tiene un utf8. Al darle click en apply aparece\n",
    "\n",
    "![](imagenes/img63.png)\n",
    "\n",
    "Esto es una traducción en lenguaje de programación de lo que se acaba de pedir en el menú anterior. Al darle click nuevamente en apply aparece\n",
    "\n",
    "![](imagenes/img64.png)\n",
    "\n",
    "Simplemente no muestra que el esquema ya fue creado.\n",
    "\n"
   ],
   "metadata": {}
  }
 ],
 "metadata": {
  "orig_nbformat": 4,
  "language_info": {
   "name": "python"
  }
 },
 "nbformat": 4,
 "nbformat_minor": 2
}