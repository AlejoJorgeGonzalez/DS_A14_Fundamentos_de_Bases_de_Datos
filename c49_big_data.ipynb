{
 "cells": [
  {
   "cell_type": "markdown",
   "metadata": {},
   "source": [
    "# Big Data"
   ]
  },
  {
   "cell_type": "markdown",
   "metadata": {},
   "source": [
    "Big Data es un concepto que nace de la necesidad de manejar grandes cantidades de datos. La tendencia comenzó con compañías como YouTube al tener la necesidad de guardar y consultar mucha información de manera rápida.\n",
    "\n",
    "Es un gran movimiento que consiste en el uso de diferentes tipos de bases de datos.\n",
    "\n",
    "El suceso que permitió un cambio de bases de datos relacionales a no relacionales es la cantidad de información que comienza a tener una base de datos, un ejemplo de esto es youtube donde tuvieron que pensar en una forma de guardar los datos de miles de horas de video que se producían en segundos.\n",
    "\n",
    "Big data no son las estadisticas o el resumen de los datos, Big Data es el  manejo de grandes volúmenes de datos que sucede en muy poco tiempo. Las estadisticas y resúmenes de los datos se enfoca mas a la analitica de datos y al bussiness intelligence."
   ]
  }
 ],
 "metadata": {
  "language_info": {
   "name": "python"
  },
  "orig_nbformat": 4
 },
 "nbformat": 4,
 "nbformat_minor": 2
}
