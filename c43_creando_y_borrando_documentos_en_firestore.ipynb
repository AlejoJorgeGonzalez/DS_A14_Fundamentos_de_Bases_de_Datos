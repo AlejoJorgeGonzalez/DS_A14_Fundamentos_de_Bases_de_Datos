{
 "cells": [
  {
   "cell_type": "markdown",
   "metadata": {},
   "source": [
    "# CREANDO Y BORRANDO DOCUMENTOS EN FIRESTORE"
   ]
  },
  {
   "cell_type": "markdown",
   "metadata": {},
   "source": [
    "Al crear documento es buena idea dejar el id en automático, a menos que sea importante que el id se refiera a algo en concreto y único como por ejemplo el ISBN de un libro o el documento de una persona\n",
    "\n",
    "![](imagenes/img191.png)\n",
    "\n",
    "Al crear un documento los tipos de datos que se manejan en firestore son:\n",
    "\n",
    "- String: Viene por defecto, cadena de caracteres\n",
    "- Number: Agrupa los integer y los números flotantes\n",
    "- Boolean: True o False\n",
    "- Map: Crea un nuevo campo con diferente tipo insertado dentro de otro campo\n",
    "- Array: Arreglo de grupo de datos, dentro de esta se agrega las columnas del array\n",
    "- Null: Campo nulo\n",
    "- Timestamp: Fecha en formato MM/DD/YYYY - HH:MM:SS\n",
    "- Geopoint: Localización Geográfica en latitud y longitud en grados\n",
    "- Reference: Es lo único que trabaja como base de datos relacionales, el cual referencia o liga el documento con otro documento\n",
    "\n",
    "![](imagenes/img192.png)\n",
    "\n",
    "Se agrega un nuevo documento a la base de datos\n"
   ]
  }
 ],
 "metadata": {
  "language_info": {
   "name": "python"
  },
  "orig_nbformat": 4
 },
 "nbformat": 4,
 "nbformat_minor": 2
}
