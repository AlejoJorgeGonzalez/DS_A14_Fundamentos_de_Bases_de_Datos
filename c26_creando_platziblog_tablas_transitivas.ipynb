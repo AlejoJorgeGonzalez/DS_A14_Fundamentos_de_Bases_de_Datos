{
 "cells": [
  {
   "cell_type": "markdown",
   "metadata": {},
   "source": [
    "# CREANDO PLATZIBLOG: TABLAS TRANSITIVAS"
   ]
  },
  {
   "cell_type": "markdown",
   "metadata": {},
   "source": [
    "- Las tablas transitivas sirven como puente para unir dos tablas. No tienen contenido semántico.\n",
    "- Reverse Engineer nos reproduce el esquema del cual nos basamos para crear nuestras tablas. Es útil cuando llegas a un nuevo trabajo y quieres entender cuál fue la mentalidad que tuvieron al momento de crear las bases de datos.\n",
    "\n",
    "Tabla Comentarios\n",
    "\n",
    "![](imagenes/img122.png)\n",
    "\n",
    "![](imagenes/img123.png)\n",
    "\n",
    "\n",
    "![](imagenes/img124.png)\n",
    "\n",
    "![](imagenes/img125.png)\n",
    "\n",
    "Solo queda por relacionar la tabla posts con la tabla etiquetas\n",
    "\n",
    "![](imagenes/img126.png)\n",
    "\n",
    "Como se ha dicho en clases pasadas, al ser las tablas posts y etiquetas una relación N:N se debe crear una tabla intermedia para pasar esta relación a 1:N, por tanto esta tabla queda de la siguiente manera.\n",
    "\n",
    "![](imagenes/img127.png)\n",
    "\n",
    "![](imagenes/img128.png)\n",
    "\n",
    "![](imagenes/img129.png)\n",
    "\n",
    "![](imagenes/img130.png)\n",
    "\n",
    "Ahora, en el Workbench existe una herramienta muy poderosa llamada 'Reverse Engineer', para llegar a ella se da click en la pestaña DataBase del menú superior y luego en Reverse Engineer\n",
    "\n",
    "![](imagenes/img131.png)\n",
    "\n",
    "![](imagenes/img132.png)\n",
    "\n",
    "Despues solicita algunos permisos, se le da click en Next\n",
    "\n",
    "![](imagenes/img133.png)\n",
    "\n",
    "Se selecciona la base de datos que se desea consultar y luego en Next\n",
    "\n",
    "![](imagenes/img134.png)\n",
    "\n",
    "Luego nos pide que objetos desea consultar, para este caso todos, se da click en execute\n",
    "\n",
    "![](imagenes/img135.png)\n",
    "\n",
    "Se le da click en Finish\n",
    "\n",
    "![](imagenes/img136.png)\n",
    "\n",
    "'Reverse Engineer' muestra el diagrama de la base de datos, esto es muy útil para personas que quieren saber como esta construida la base de datos, facilitando el entendimiento de esta y las relaciones entra las tablas."
   ]
  }
 ],
 "metadata": {
  "language_info": {
   "name": "python"
  },
  "orig_nbformat": 4
 },
 "nbformat": 4,
 "nbformat_minor": 2
}
