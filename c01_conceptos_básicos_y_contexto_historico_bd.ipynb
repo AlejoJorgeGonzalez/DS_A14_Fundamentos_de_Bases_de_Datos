{
 "cells": [
  {
   "cell_type": "markdown",
   "source": [
    "# CONCEPTOS BÁSICOS Y CONTEXTO HISTÓRICO DE LAS BASES DE DATOS"
   ],
   "metadata": {}
  },
  {
   "cell_type": "markdown",
   "source": [
    "## Historia de la persistencia de la información\n",
    "\n",
    "Historicamente la información se transmitia de boca en boca, lo cuál descompone la información de manera rapida, como por ejemplo, cuando se juega al telefono roto. Esto creo la necesidad de crear medios en que la información no se distorsionara y persistiera en el tiempo, mucho mas que la vida del humano. Los primeros medios para guardar la información fue el sistema de escritura de los sumerios, los cuales los tallaban en piedras y en tablillas de arcilla, sin embargo, el problema de este sistema es que eran poco transportables y en el caso de la arcilla se quebraba con facilidad.\n",
    "\n",
    "Despues, se utilizo el papiro, el cuál mejoro considerablemente la transportabilidad de los escritos, pero al ser hecho a base vegetal y animal, estos se descomponian rapidamente o sufrian de hongos. Los chinos lograron superar todos estos incovenientes con la invención del papel, el cual permitia una gran transportabilidad y es un material que no se descompone tan rapidamente.\n",
    "\n",
    "En el siglo XX, se creo el microfilm, el cual permite guardar la información por muchos años, es decir, miles de años, sin embargo para modificar o obtener la información requiere de procesos muy complejos.\n",
    "\n",
    "En los ultimos años, llego el almacenamiento en medios digitales como los discos duros o memorias USB, sin embargo, el último salto en la forma de almacenar datos fue la nube, el cual como ventaja, permite obtener la información en cualquier parte del mundo.\n",
    "\n",
    "## ¿Qué son las Bases de Datos?\n",
    "\n",
    "Las bases de datos surgieron en la trascisión de medios digitales y la nube. Las Bases de datos se dividen en dos grupos.\n",
    "\n",
    "- **Relacionales:** Como por ejemplo SQL Server, Oracle, además de los open source como PostgreSQL, mySQL, MariaDB.\n",
    "- **No Relacionales:** Estos son bases que aparecieron hace poco y hasta el momento sigue apareciendo nuevas cosas sobre estos, algunos ejemplos son cassandra, elasticsearch, neo4j, MongoDB\n",
    "\n",
    "Otra división entre bases de datos es\n",
    "\n",
    "- **Auto administrados:** El mantenimiento corresponde al usuario de la base de datos.\n",
    "- **Administrados:** El mantenimiento corresponde a la empresa que ofrece la base de datos.\n"
   ],
   "metadata": {}
  }
 ],
 "metadata": {
  "orig_nbformat": 4,
  "language_info": {
   "name": "python"
  }
 },
 "nbformat": 4,
 "nbformat_minor": 2
}