{
 "cells": [
  {
   "cell_type": "markdown",
   "metadata": {},
   "source": [
    "# SELECT"
   ]
  },
  {
   "cell_type": "markdown",
   "metadata": {},
   "source": [
    "SELECT se encarga de proyectar o mostrar datos.\n",
    "\n",
    "- El nombre de las columnas o campos que estamos consultando puede ser cambiado utilizando AS después del nombre del campo y poniendo el nuevo que queremos tener:\n",
    "\t\n",
    "SELECT titulo AS encabezado\n",
    "FROM posts;\n",
    "\n",
    "- Existe una función de SELECT para poder contar la cantidad de registros. Esa información (un número) será el resultado del query:\n",
    "\n",
    "SELECT COUNT(*)\n",
    "FROM posts;\n",
    "\n",
    "![](imagenes/img140.png)\n",
    "\n",
    "Se puede seleccionar los campos que se quiere ver escribiendo después de SELECT, los cuales están en la tabla que se selecciona en FROM.\n",
    "\n",
    "![](imagenes/img141.png)\n",
    "\n",
    "También se puede ver los datos seleccionados con otro nombre de campos agregándole AS a cada campo.\n",
    "\n",
    "![](imagenes/img142.png)\n",
    "\n",
    "COUNT es una operación dentro de SELECT que cuenta el número de filas o datos de la tabla."
   ]
  }
 ],
 "metadata": {
  "language_info": {
   "name": "python"
  },
  "orig_nbformat": 4
 },
 "nbformat": 4,
 "nbformat_minor": 2
}
