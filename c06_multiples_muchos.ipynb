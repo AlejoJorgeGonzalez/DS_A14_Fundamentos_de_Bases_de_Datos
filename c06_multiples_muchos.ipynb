{
 "cells": [
  {
   "cell_type": "markdown",
   "source": [
    "# Múltiples Muchos"
   ],
   "metadata": {}
  },
  {
   "cell_type": "markdown",
   "source": [
    "Existe un tipo de cardinalidad aparte de las cardinalidades de las clases pasadas que es la mas interesante de todas.\n",
    "\n",
    "Cardinalidad: N a N\n",
    "\n",
    "![img18](imagenes/img18.png)\n",
    "\n",
    "Esta es una cardinalidad de muchos a muchos, un ejemplo es la cardinalidad entre alumnos y clases, un alumno puede estar en muchas clases y una clase puede tener muchos alumnos, el problema es que no se sabe de donde se crea la relación, si desde los alumnos o desde las clases, por lo que este tipo de cardinalidad conlleva una mayor complejidad."
   ],
   "metadata": {}
  }
 ],
 "metadata": {
  "orig_nbformat": 4,
  "language_info": {
   "name": "python"
  }
 },
 "nbformat": 4,
 "nbformat_minor": 2
}