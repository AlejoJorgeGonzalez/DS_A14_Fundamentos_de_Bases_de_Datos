{
 "cells": [
  {
   "cell_type": "markdown",
   "metadata": {},
   "source": [
    "# SERVICIOS ADMINISTRADOS Y JERARQUÍA DE DATOS"
   ]
  },
  {
   "cell_type": "markdown",
   "metadata": {},
   "source": [
    "Firebase es un servicio de Google donde puedes tercerizar muchos elementos en la nube. Es una base de datos basado en documento que es administrado. Firestore es muy utilizado para la base de datos de aplicaciones web, sea de pc o de celulares, una de sus ventajas es que es muy visual, ademas google ofrece la posibilidad de trabajar con la base de datos por medio de la consola.\n",
    "\n",
    "Jerarquía de datos en firestore:\n",
    "\n",
    "\t1. Base de datos\n",
    "\t2. Colección\n",
    "\t3. Documento\n",
    "\n",
    "\n",
    "![](imagenes/img179.png)\n",
    "\n",
    "Los documentos se guardan de forma similar a los JSON, los cuales son fáciles de leer por muchos lenguajes de programación y mucho frameworks.\n"
   ]
  }
 ],
 "metadata": {
  "language_info": {
   "name": "python"
  },
  "orig_nbformat": 4
 },
 "nbformat": 4,
 "nbformat_minor": 2
}
