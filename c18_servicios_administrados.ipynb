{
 "cells": [
  {
   "cell_type": "markdown",
   "source": [
    "# SERVICIOS ADMINISTRADOS"
   ],
   "metadata": {}
  },
  {
   "cell_type": "markdown",
   "source": [
    "Hoy en día muchas empresas ya no tienen instalados en sus servidores los RDBMS sino que los contratan a otras personas. Estos servicios administrados cloud te permiten concentrarte en la base de datos y no en su administración y actualización.\n",
    "\n",
    "Hoy en día muchas empresas no tiene sus bases de datos en servidores propios o maquinas locales, sino en servicios administrados o cloud, en estos servicios los proveedores del servicio se encargan de todo lo relacionado con el mantenimiento, crecimiento de los servidores, temas de seguridad, conexiones, etc. Es decir, no se encargan de los datos de las bases de datos sino lo que soporta la existencia de la base de datos, el ambiente donde esta la base de datos.\n",
    "\n",
    "Algunas de estas bases de datos es AWS de Amazon, GCP de Google o Azure de Microsoft. En este caso se muestra el Google Cloud Platform, aunque es un servicio que es pago, Google ofrece un tiempo gratis para conocer mas la plataforma.\n",
    "\n",
    "![](imagenes/img65.png)\n",
    "\n",
    "Para crear un RDBMS en Google Cloud, en las herramientas de la izquierda se busca SQL\n",
    "\n",
    "![](imagenes/img66.png)\n",
    "\n",
    "Aparece si se quiere crear una nueva instancia o se desea migrar datos de otro lugar, para este caso se crea una nueva instancia.\n",
    "\n",
    "![](imagenes/img67.png)\n",
    "\n",
    "Despues nos pide como se quiere crear la base de datos, por MySQL, PostgreSQL o SQL server, para este caso se selecciona MySQL\n",
    "\n",
    "![](imagenes/img68.png)\n",
    "\n",
    "Se llena los datos que pide google y se da click en create\n",
    "\n",
    "![](imagenes/img69.png)\n",
    "\n",
    "Despues de creada la instancia, en bases de datos nos muestras todas la que están por defecto, se crea una en  crear base de datos\n",
    "\n",
    "![](imagenes/img70.png)\n",
    "\n",
    "Se crea platziblog que va a contener caracteres bajo utf8, creado la base de datos se devuelve a la descripción general para ver las conexiones \n",
    "\n",
    "![](imagenes/img71.png)\n",
    "\n",
    "En esta parte se puede observar un enlace que dice 'Abrir cloud shell', el cuál es una terminal de comando de la nube y donde se le puede dar instrucciones\n",
    "\n",
    "![](imagenes/img72.png)\n",
    "\n",
    "Es de anotar que la terminal esta abierta por 5mins por razones de seguridad."
   ],
   "metadata": {}
  }
 ],
 "metadata": {
  "orig_nbformat": 4,
  "language_info": {
   "name": "python"
  }
 },
 "nbformat": 4,
 "nbformat_minor": 2
}