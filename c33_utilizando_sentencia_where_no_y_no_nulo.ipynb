{
 "cells": [
  {
   "cell_type": "markdown",
   "metadata": {},
   "source": [
    "# UTILIZANDO LA SENTENCIA WHERE NULO Y NO NULO"
   ]
  },
  {
   "cell_type": "markdown",
   "metadata": {},
   "source": [
    "El valor nulo en una tabla generalmente es su valor por defecto cuando nadie le asignó algo diferente. La sintaxis para hacer búsquedas de datos nulos es IS NULL. La sintaxis para buscar datos que no son nulos es IS NOT NULL.\n",
    "\n",
    "![](imagenes/img159.png)\n",
    "\n",
    "Para llamar elemento NULL se escribe un poco diferente, no se utiliza = NULL sino que debe escribirse IS NULL. En la gran mayoría de ocasiones se interesa por saber los datos que no son nulos, el cual se puede expresar como\n",
    "\n",
    "![](imagenes/img160.png)\n",
    "\n",
    "De esta forma se trae los datos que en su parte de usuario_id no son nulos o IS NOT NULL, descartando aquellos que son nulos.\n",
    "\n",
    "![](imagenes/img161.png)\n",
    "\n",
    "Además, se puede agregar AND para empezar a filtrar según otros criterios, los cuales pueden tener tantos como se necesiten, haciendo a la sentencia WHERE mucho mas poderosa.\n"
   ]
  }
 ],
 "metadata": {
  "language_info": {
   "name": "python"
  },
  "orig_nbformat": 4
 },
 "nbformat": 4,
 "nbformat_minor": 2
}
