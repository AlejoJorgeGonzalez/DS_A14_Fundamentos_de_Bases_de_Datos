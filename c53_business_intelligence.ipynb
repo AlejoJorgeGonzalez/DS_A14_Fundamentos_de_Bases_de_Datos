{
 "cells": [
  {
   "cell_type": "markdown",
   "metadata": {},
   "source": [
    "# BUSINESS INTELLIGENCE"
   ]
  },
  {
   "cell_type": "markdown",
   "metadata": {},
   "source": [
    "Business Intelligence es una parte muy importante de las carreras de datos ya que es el punto final del manejo de estos. Su razón de ser es tener la información lista, clara y que tenga todos los elementos para tomar decisiones en una empresa.\n",
    "\n",
    "Es necesario tener una buena sensibilidad por entender el negocio, sus necesidades y la información que puede llevar a tomar decisiones en el momento adecuado al momento de realizar business intelligence.\n",
    "\n",
    "Business Intelligence se encarga de encontrar patrones, tendencias que son de gran utilidad para la toma de decisiones, también se encarga de realizar tablas, graficas, dashboard que permiten a los encargados de la toma de decisiones de la empresa ver de un vistazo como se encuentra los datos de la empresa."
   ]
  }
 ],
 "metadata": {
  "language_info": {
   "name": "python"
  },
  "orig_nbformat": 4
 },
 "nbformat": 4,
 "nbformat_minor": 2
}
