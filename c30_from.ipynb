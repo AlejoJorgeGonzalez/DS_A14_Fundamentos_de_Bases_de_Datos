{
 "cells": [
  {
   "cell_type": "markdown",
   "metadata": {},
   "source": [
    "# FROM"
   ]
  },
  {
   "cell_type": "markdown",
   "metadata": {},
   "source": [
    "FROM indica de dónde se deben traer los datos y puede ayudar a hacer sentencias y filtros complejos cuando se quieren unir tablas. La sentencia compañera que nos ayuda con este proceso es JOIN.\n",
    "\n",
    "Los diagramas de Venn son círculos que se tocan en algún punto para ver dónde está la intersección de conjuntos. Ayudan mucho para poder formular la sentencia JOIN de la manera adecuada dependiendo del query que se quiere hacer.\n",
    "\n",
    "![](imagenes/img143.png)\n",
    "\n",
    "JOIN une tanto los datos contenidos en A como en B, LEFT JOIN trae los datos de A que no están en B, RIGHT JOIN trae los datos en B que no están en A.\n",
    "\n",
    "![](imagenes/img144.png)\n",
    "\n",
    "INNER JOIN toma los datos que esta tanto en A como B, OUTER JOIN toma todos los datos menos los que se encuentra tanto en A como en B. \n"
   ]
  }
 ],
 "metadata": {
  "language_info": {
   "name": "python"
  },
  "orig_nbformat": 4
 },
 "nbformat": 4,
 "nbformat_minor": 2
}
