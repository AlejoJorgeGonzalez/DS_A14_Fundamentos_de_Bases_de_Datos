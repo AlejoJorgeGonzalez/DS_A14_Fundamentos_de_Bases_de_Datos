{
 "cells": [
  {
   "cell_type": "markdown",
   "metadata": {},
   "source": [
    "# DDL DROP"
   ]
  },
  {
   "cell_type": "markdown",
   "metadata": {},
   "source": [
    "Está puede ser la sentencia **¡más peligrosa!**, sobre todo cuando somos principiantes. Básicamente borra o desaparece de nuestra base de datos algún elemento.\n",
    "\n",
    "La sentencia para un drop es la siguiente\n",
    "\n",
    "![](imagenes/img90.png)\n",
    "\n",
    "Simplemente se escribe 'DROP TABLE' y el nombre de la tabla o 'DROP DATABASE' y el nombre de la base de datos, como se puede ver es muy facil de correr pero a la vez peligrosa.\n",
    "\n",
    "![](imagenes/img91.png)\n",
    "\n",
    "En el workbench para realizar un drop, click derecho a la tabla a borrar y se selecciona Drop Table…\n",
    "\n",
    "![](imagenes/img92.png)\n",
    "\n",
    "Aparece una ventana de precaución para confirmar si se desea realizar el drop, aparecen dos opciones, 'review SQL' y 'Drop Now', como muy buena práctica es recomendable darle click en 'review SQL' para revisar el código para borrarlo\n",
    "\n",
    "![](imagenes/img93.png)\n",
    "\n",
    "En review SQL, aparece el código que se va a ejecutar, si es lo que se quiere se da click en execute, de esta forma se borra una tabla en workbench. Ahora, un acto no apto para personas con problemas del corazón, se va a borrar la base de datos 'platziblog'\n",
    "\n",
    "![](imagenes/img94.png)\n",
    "\n",
    "Para borrar la base de datos se hace click en esta y se escoge la opción 'Drop Schema…'\n",
    "\n",
    "![](imagenes/img95.png)\n",
    "\n",
    "Nuevamente aparece un mensaje de precaución y como buena practica se selecciona la opción 'Review SQL'\n",
    "\n",
    "![](imagenes/img96.png)\n",
    "\n",
    "Se revisa el código SQL y luego se selecciona 'Execute', de esta forma se habra borrado la base de datos de manera definitiva.\n"
   ]
  }
 ],
 "metadata": {
  "language_info": {
   "name": "python"
  },
  "orig_nbformat": 4
 },
 "nbformat": 4,
 "nbformat_minor": 2
}
