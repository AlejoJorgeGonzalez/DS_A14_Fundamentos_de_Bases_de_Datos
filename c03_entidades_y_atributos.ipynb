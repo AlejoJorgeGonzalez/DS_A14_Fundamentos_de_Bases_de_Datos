{
 "cells": [
  {
   "cell_type": "markdown",
   "source": [
    "# Entidades y Atributos"
   ],
   "metadata": {}
  },
  {
   "cell_type": "markdown",
   "source": [
    "Una entidad es algo similar a un objeto (programación orientada a objetos) y representa algo en el mundo real, incluso algo abstracto.\n",
    "\n",
    "\n",
    "![img01](imagenes/img01.png)\n",
    "\n",
    "Por ejemplo, una entidad puede ser una manzano o automóvil, cualquier objeto del mundo real puede ser una entidad en una base de datos, ahora las entidades tiene algo muy especial y es que tienen atributos, que son las cosas que los hacen ser una entidad y por convención se ponen en plural.\n",
    "\n",
    "![img02](imagenes/img02.png)\n",
    "\n",
    "Por ejemplo, para la entidad automóvil, este puede tener atributos como por ejemplo volante,  llantas, motor, modelo, etc.\n",
    "\n",
    "Gráficamente las entidades se representa encerrados por rectángulos, los atributos por un óvalo si es uno solo como por ejemplo volante o dos óvalos si son multivaluados, es decir, tiene mas de uno como por ejemplo llantas. Ahora el motor, es un tipo de atributo especial porque este mismo atributo tiene mas atributos asignados a este como por ejemplo pistones y bujías, a este tipo de atributos se le conoce como atributos compuestos que son aquellos que tienen mas atributos a ellos mismos.\n",
    "\n",
    "Otro atributo especial es la antigüedad del carro, el cuál depende de otro atributo llamado modelo, estos atributos se dibujan con un óvalo de lineas punteadas.\n",
    "\n",
    "Otro ejemplo son las laptops, para este caso las entidad en el laptop y sus atributos se pueden ver como:\n",
    "\n",
    "![img03](imagenes/img03.png)\n",
    "\n",
    "Un atributo interesante es el no de serie, ya que es un atributo que ayuda a identificar de manera única dentro de la entidad de laptop, a este tipo de atributos se le llama atributos llaves que son aquellos que identifican a la entidad y no pueden ser repetidos, gráficamente los atributos llaves tiene un subrayado en el nombre del atributo. \n",
    "\n",
    "\n",
    "![img04](imagenes/img04.png)\n",
    "\n",
    "Como se observa en la tabla, varios laptop puede repetir el mismo tipo de atributo, esto se debe evitar y por tanto se debe crear un parametro llave que los diferencia uno de otros, que para este caso es el atributo no de serie.\n",
    "\n",
    "Existen dos tipos de atributos llaves:\n",
    "\n",
    "-Naturales: son inherentes al objeto como el número de serie, como por ejemplo el no de serie de una laptop.\n",
    "- Clave artificial: no es inherente al objeto y se asigna de manera arbitraria, como por ejemplo el ISBN de los libros, que si no esta se puede crear según la conveniencia.\n",
    "\n",
    "Además pueden existir:\n",
    "\n",
    "- Entidades fuertes: son entidades que pueden sobrevivir por sí solas, es decir, no depende de ninguna otra entidad para existir.\n",
    "- Entidades débiles: no pueden existir sin una entidad fuerte y se representan con un cuadrado con doble línea.\n",
    "\n",
    "\n",
    "![img05](imagenes/img05.png)\n",
    "\n",
    "Por ejemplo, una identidad fuerte puede se libros y una entidad débil que depende de libros es ejemplares.\n",
    "\n",
    "![img06](imagenes/img06.png)\n",
    "\n",
    "Las identidades débiles pueden ser débiles por dos motivos:\n",
    "\n",
    "- Identidades débiles por identidad: no se diferencian entre sí más que por la clave de su identidad fuerte.\n",
    "- Identidades débiles por existencia: se les asigna una clave propia.\n",
    "\n",
    "Un ejemplo de identidades débiles por identidad es el siguiente:\n",
    "\n",
    "\n",
    "![img07](imagenes/img07.png)\n",
    "\n",
    "En este caso se comparte el mismo ID y por tanto son identidades débiles por identidad, mientras que unas identidades débiles por existencia sería como:\n",
    "\n",
    "![img08](imagenes/img08.png)\n",
    "\n",
    "Se puede observar que cada identidad no tienen un atributo que los relacione, por lo tanto son débiles por existencia."
   ],
   "metadata": {}
  },
  {
   "cell_type": "markdown",
   "source": [
    "Resumiendo:\n",
    "\n",
    "Una entidad es algo similar a un objeto (programación orientada a objetos) y representa algo en el mundo real, incluso algo abstracto. Tienen atributos que son las cosas que los hacen ser una entidad y por convención se ponen en plural.\n",
    "\n",
    "Los atributos compuestos son aquellos que tienen atributos ellos mismos.\n",
    "\n",
    "Los atributos llave son aquellos que identifican a la entidad y no pueden ser repetidos. Existen:\n",
    "\n",
    "- Naturales: son inherentes al objeto como el número de serie\n",
    "- Clave artificial: no es inherente al objeto y se asigna de manera arbitraria.\n",
    "- Entidades fuertes: son entidades que pueden sobrevivir por sí solas.\n",
    "- Entidades débiles: no pueden existir sin una entidad fuerte y se representan con un cuadrado con doble línea.\n",
    "\n",
    "\n",
    "- Identidades débiles por identidad: no se diferencian entre sí más que por la clave de su identidad fuerte.\n",
    "- Identidades débiles por existencia: se les asigna una clave propia."
   ],
   "metadata": {}
  }
 ],
 "metadata": {
  "orig_nbformat": 4,
  "language_info": {
   "name": "python"
  }
 },
 "nbformat": 4,
 "nbformat_minor": 2
}