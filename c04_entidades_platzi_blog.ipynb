{
 "cells": [
  {
   "cell_type": "markdown",
   "source": [
    "# Entidades de Platzi Blog"
   ],
   "metadata": {}
  },
  {
   "cell_type": "markdown",
   "source": [
    "El proyecto para el curso es un manejador de Blogpost.\n",
    "\n",
    "Primer paso: Identificar las entidades\n",
    "\n",
    "![img09](imagenes/img09.png)\n",
    "\n",
    "La primera identidad es el posts, el segundo son los usuarios, el tercer son los comentarios y la cuarta son las categorías.\n",
    "\n",
    "Segundo paso: Pensar en los atributos\n",
    "\n",
    "![img10](imagenes/img10.png)\n",
    "\n",
    "Los post tiene como atributos, titulo, fecha de publicación, contenido, estatus, etiquetas (atributo con varios valores), id (atributo llave).\n",
    "\n",
    "![img11](imagenes/img11.png)\n",
    "\n",
    "La identidad usuarios tiene como atributos: login, password, apodo, email, id(atributo llave) como buena practica hay que crear un id como llave y no el email, ya que el usuario puede cambiar el email de contacto.\n"
   ],
   "metadata": {}
  }
 ],
 "metadata": {
  "orig_nbformat": 4,
  "language_info": {
   "name": "python"
  }
 },
 "nbformat": 4,
 "nbformat_minor": 2
}