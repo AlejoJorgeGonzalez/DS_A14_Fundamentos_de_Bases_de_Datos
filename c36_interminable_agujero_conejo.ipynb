{
 "cells": [
  {
   "cell_type": "markdown",
   "metadata": {},
   "source": [
    "# EL INTERMINABLE AGUJERO DE CONEJO (NESTED QUERIES)"
   ]
  },
  {
   "cell_type": "markdown",
   "metadata": {},
   "source": [
    "Los Nested queries significan que dentro de un query podemos hacer otro query. Esto sirve para hacer join de tablas, estando una en memoria. También teniendo un query como condicional del otro.\n",
    "\n",
    "Este proceso puede ser tan profundo como quieras, teniendo infinitos queries anidados.\n",
    "Se le conoce como un producto cartesiano ya que se multiplican todos los registros de una tabla con todos los del nuevo query. Esto provoca que el query sea difícil de procesar por lo pesado que puede resultar.\n",
    "\n",
    "Los Query anidados son útiles para realizar operaciones entre tablas, cuando se desea consultar una tabla con otra.\n",
    "\n",
    "![](imagenes/img171.png)\n",
    "\n",
    "Se crea un query a partir de un subquery, a esto se le conoce como querys anidados, para este caso se crea una nueva tabla llamada 'new_table_projection' a partir de un query en su FROM y a partir de esta nueva tabla se crea un query mas.\n",
    "\n",
    "![](imagenes/img172.png)\n",
    "\n",
    "También se puede crear un subquery dentro del WHERE, en este caso se crea un filtro en el cual muestra los datos con la fecha mas alta.\n",
    "\n",
    "Es de anotar que esto no es muy buena practica, en especial en bases de datos que se espera escalen en el tiempo.\n"
   ]
  }
 ],
 "metadata": {
  "interpreter": {
   "hash": "e55666fbbf217aa3df372b978577f47b6009e2f78e2ec76a584f49cd54a1e62c"
  },
  "kernelspec": {
   "display_name": "Python 2.7.18 64-bit",
   "name": "python3"
  },
  "language_info": {
   "name": "python",
   "version": "2.7.18"
  },
  "orig_nbformat": 4
 },
 "nbformat": 4,
 "nbformat_minor": 2
}
