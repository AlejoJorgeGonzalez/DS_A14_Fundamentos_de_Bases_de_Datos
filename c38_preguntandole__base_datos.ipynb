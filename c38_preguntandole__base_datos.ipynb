{
 "cells": [
  {
   "cell_type": "markdown",
   "metadata": {},
   "source": [
    "# PREGUNTÁNDOLE A LA BASE DE DATOS"
   ]
  },
  {
   "cell_type": "markdown",
   "metadata": {},
   "source": [
    "- GROUP_CONCAT toma el resultado del query y lo pone como campo separado por comas.\n",
    "\n",
    "![](imagenes/img173.png)\n",
    "\n",
    "Se selecciona a los títulos del posts donde se cuenta en una nueva columna llamada num_etiquetas que es el conteo de etiquetas, desde las etiquetas id en la tabla etiquetas que se llega a ella uniendo las tablas posts con posts_etiquetas y posteriormente posts_etiquetas con etiquetas. Despues se agrupan por el id del posts y se ordena de mayor a menor según el número de etiquetas.\n",
    " \n",
    "![](imagenes/img174.png)\n",
    "\n",
    "Se puede mostrar el nombre de las etiquetas utilizando GROUP_CONCAT, como se muestra en la imagen.\n",
    "\n",
    "![](imagenes/img175.png)\n",
    "\n",
    "De esta forma se hallan las etiquetas que no tienen asociado un post en la base de datos.\n"
   ]
  }
 ],
 "metadata": {
  "language_info": {
   "name": "python"
  },
  "orig_nbformat": 4
 },
 "nbformat": 4,
 "nbformat_minor": 2
}
