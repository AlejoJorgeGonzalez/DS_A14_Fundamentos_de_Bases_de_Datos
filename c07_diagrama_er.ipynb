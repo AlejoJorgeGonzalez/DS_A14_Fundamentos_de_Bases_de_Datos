{
 "cells": [
  {
   "cell_type": "markdown",
   "source": [
    "# Diagrama ER"
   ],
   "metadata": {}
  },
  {
   "cell_type": "markdown",
   "source": [
    "Un diagrama es como un mapa y nos ayuda a entender cuáles son las entidades con las que vamos a trabajar, cuáles son sus relaciones y qué papel van a jugar en las aplicaciones de la base de datos.\n",
    "\n",
    "![img19](imagenes/img19.png)\n",
    "\n",
    "En este diagrama se puede crear las relaciones entre entidades, por ejemplo, los usuarios escriben los post con una relación 1:N, otra relación es que los usuarios escribe comentarios en una relación 1:N, además el post tiene comentarios en una relación 1:N, otra es que una categoría puede tener varios post en una relación 1:N y por último varios post pueden tener varias etiquetas en una relación especial de N:N.\n",
    "\n",
    "Existen muchos tipos de diagrama, pero uno de los mas populares es el presenta que es llamado diagrama ER (Entidad-Relación)"
   ],
   "metadata": {}
  },
  {
   "cell_type": "markdown",
   "source": [
    "## Enlaces Externos\n",
    "\n",
    "[Diagrama ER](https://en.wikipedia.org/wiki/Entity%E2%80%93relationship_model#Cardinalities)\n"
   ],
   "metadata": {}
  }
 ],
 "metadata": {
  "orig_nbformat": 4,
  "language_info": {
   "name": "python"
  }
 },
 "nbformat": 4,
 "nbformat_minor": 2
}