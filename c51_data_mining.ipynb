{
 "cells": [
  {
   "cell_type": "markdown",
   "metadata": {},
   "source": [
    "# DATA MINING"
   ]
  },
  {
   "cell_type": "markdown",
   "metadata": {},
   "source": [
    "El Data Mining se dedica a minar datos, a extraerlos de donde sea que estén (archivos muertos, base de datos actual, etc…) y hacer sentido de ellos para darles un uso.\n",
    "\n",
    "Puede que se encuentre con una gran cantidad de datos guardados en una base de datos de producción o en un Data Warehouse de manera desorganizada, el Data Mining es la disciplina que busca los datos en estas bases de dato sin importar, como este organizado la base de datos ni cuantas bases de datos se tengan.\n"
   ]
  }
 ],
 "metadata": {
  "language_info": {
   "name": "python"
  },
  "orig_nbformat": 4
 },
 "nbformat": 4,
 "nbformat_minor": 2
}
